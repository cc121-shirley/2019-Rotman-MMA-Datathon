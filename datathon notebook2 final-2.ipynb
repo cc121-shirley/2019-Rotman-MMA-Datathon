{
 "cells": [
  {
   "cell_type": "code",
   "execution_count": 1,
   "metadata": {},
   "outputs": [],
   "source": [
    "import pandas as pd\n",
    "import matplotlib.pyplot as plt"
   ]
  },
  {
   "cell_type": "code",
   "execution_count": 2,
   "metadata": {
    "scrolled": true
   },
   "outputs": [
    {
     "data": {
      "text/plain": [
       "['.Rhistory',\n",
       " 'Music',\n",
       " '.condarc',\n",
       " '.DS_Store',\n",
       " 'VirtualBox VMs',\n",
       " '.CFUserTextEncoding',\n",
       " '要记的东西.ipynb',\n",
       " '.subversion',\n",
       " 'Case Comp Data Final.csv',\n",
       " 'Creative Cloud Files',\n",
       " 'Pictures',\n",
       " 'woe_transform_function short version.ipynb',\n",
       " '.ipython',\n",
       " 'Desktop',\n",
       " 'Library',\n",
       " '.matplotlib',\n",
       " 'application_train.csv',\n",
       " 'coursera week3 assignment.ipynb',\n",
       " 'home credit risk default_dev.ipynb',\n",
       " '.bash_sessions',\n",
       " 'gcc-4.2',\n",
       " 'coursera capstone.ipynb',\n",
       " 'PycharmProjects',\n",
       " 'Public',\n",
       " '.idlerc',\n",
       " 'home credit  default risk-product.ipynb',\n",
       " '.RData',\n",
       " '.anaconda',\n",
       " 'Movies',\n",
       " 'Applications',\n",
       " 'datathon by myself.ipynb',\n",
       " '.Rapp.history',\n",
       " 'san-francisco.geojson',\n",
       " '.Trash',\n",
       " '.zoomus',\n",
       " '.ipynb_checkpoints',\n",
       " '.jupyter',\n",
       " 'Documents',\n",
       " '.rstudio-desktop',\n",
       " '.bash_profile',\n",
       " 'anaconda3',\n",
       " 'Downloads',\n",
       " 'Titanic.ipynb',\n",
       " '.gitconfig',\n",
       " 'coding note1.ipynb',\n",
       " 'coursera assignment.ipynb',\n",
       " '.bash_history',\n",
       " 'boosting.R',\n",
       " '.conda',\n",
       " 'Titanic_train.csv',\n",
       " 'datathon notebook2 final.ipynb']"
      ]
     },
     "execution_count": 2,
     "metadata": {},
     "output_type": "execute_result"
    }
   ],
   "source": [
    "import os\n",
    "os.listdir()"
   ]
  },
  {
   "cell_type": "code",
   "execution_count": 3,
   "metadata": {},
   "outputs": [],
   "source": [
    "data = pd.read_csv('Case Comp Data Final.csv')"
   ]
  },
  {
   "cell_type": "code",
   "execution_count": 4,
   "metadata": {},
   "outputs": [
    {
     "data": {
      "text/plain": [
       "(101766, 37)"
      ]
     },
     "execution_count": 4,
     "metadata": {},
     "output_type": "execute_result"
    }
   ],
   "source": [
    "data.shape"
   ]
  },
  {
   "cell_type": "code",
   "execution_count": 5,
   "metadata": {},
   "outputs": [
    {
     "data": {
      "text/plain": [
       "((101766, 37), (101766, 37))"
      ]
     },
     "execution_count": 5,
     "metadata": {},
     "output_type": "execute_result"
    }
   ],
   "source": [
    "data_1 = data\n",
    "data_2 = data.copy()\n",
    "data_1.shape, data_2.shape"
   ]
  },
  {
   "cell_type": "code",
   "execution_count": 6,
   "metadata": {},
   "outputs": [
    {
     "data": {
      "text/html": [
       "<div>\n",
       "<style scoped>\n",
       "    .dataframe tbody tr th:only-of-type {\n",
       "        vertical-align: middle;\n",
       "    }\n",
       "\n",
       "    .dataframe tbody tr th {\n",
       "        vertical-align: top;\n",
       "    }\n",
       "\n",
       "    .dataframe thead th {\n",
       "        text-align: right;\n",
       "    }\n",
       "</style>\n",
       "<table border=\"1\" class=\"dataframe\">\n",
       "  <thead>\n",
       "    <tr style=\"text-align: right;\">\n",
       "      <th></th>\n",
       "      <th>encounter_id</th>\n",
       "      <th>patient_nbr</th>\n",
       "      <th>race</th>\n",
       "      <th>gender</th>\n",
       "      <th>age</th>\n",
       "      <th>time_in_hospital</th>\n",
       "      <th>num_lab_procedures</th>\n",
       "      <th>num_procedures</th>\n",
       "      <th>num_medications</th>\n",
       "      <th>number_outpatient</th>\n",
       "      <th>...</th>\n",
       "      <th>troglitazone</th>\n",
       "      <th>tolazamide</th>\n",
       "      <th>sitagliptin</th>\n",
       "      <th>insulin</th>\n",
       "      <th>glyburide-metformin</th>\n",
       "      <th>glipizide-metformin</th>\n",
       "      <th>glimepiride-pioglitazone</th>\n",
       "      <th>metformin-rosiglitazone</th>\n",
       "      <th>metformin-pioglitazone</th>\n",
       "      <th>readmitted</th>\n",
       "    </tr>\n",
       "  </thead>\n",
       "  <tbody>\n",
       "    <tr>\n",
       "      <th>0</th>\n",
       "      <td>2278392</td>\n",
       "      <td>8222157</td>\n",
       "      <td>Caucasian</td>\n",
       "      <td>Female</td>\n",
       "      <td>[0-10)</td>\n",
       "      <td>1</td>\n",
       "      <td>41</td>\n",
       "      <td>0</td>\n",
       "      <td>1</td>\n",
       "      <td>0</td>\n",
       "      <td>...</td>\n",
       "      <td>No</td>\n",
       "      <td>No</td>\n",
       "      <td>No</td>\n",
       "      <td>No</td>\n",
       "      <td>No</td>\n",
       "      <td>No</td>\n",
       "      <td>No</td>\n",
       "      <td>No</td>\n",
       "      <td>No</td>\n",
       "      <td>NO</td>\n",
       "    </tr>\n",
       "    <tr>\n",
       "      <th>1</th>\n",
       "      <td>149190</td>\n",
       "      <td>55629189</td>\n",
       "      <td>Caucasian</td>\n",
       "      <td>Female</td>\n",
       "      <td>[10-20)</td>\n",
       "      <td>3</td>\n",
       "      <td>59</td>\n",
       "      <td>0</td>\n",
       "      <td>18</td>\n",
       "      <td>0</td>\n",
       "      <td>...</td>\n",
       "      <td>No</td>\n",
       "      <td>No</td>\n",
       "      <td>No</td>\n",
       "      <td>Up</td>\n",
       "      <td>No</td>\n",
       "      <td>No</td>\n",
       "      <td>No</td>\n",
       "      <td>No</td>\n",
       "      <td>No</td>\n",
       "      <td>&gt;30</td>\n",
       "    </tr>\n",
       "    <tr>\n",
       "      <th>2</th>\n",
       "      <td>64410</td>\n",
       "      <td>86047875</td>\n",
       "      <td>AfricanAmerican</td>\n",
       "      <td>Female</td>\n",
       "      <td>[20-30)</td>\n",
       "      <td>2</td>\n",
       "      <td>11</td>\n",
       "      <td>5</td>\n",
       "      <td>13</td>\n",
       "      <td>2</td>\n",
       "      <td>...</td>\n",
       "      <td>No</td>\n",
       "      <td>No</td>\n",
       "      <td>No</td>\n",
       "      <td>No</td>\n",
       "      <td>No</td>\n",
       "      <td>No</td>\n",
       "      <td>No</td>\n",
       "      <td>No</td>\n",
       "      <td>No</td>\n",
       "      <td>NO</td>\n",
       "    </tr>\n",
       "    <tr>\n",
       "      <th>3</th>\n",
       "      <td>500364</td>\n",
       "      <td>82442376</td>\n",
       "      <td>Caucasian</td>\n",
       "      <td>Male</td>\n",
       "      <td>[30-40)</td>\n",
       "      <td>2</td>\n",
       "      <td>44</td>\n",
       "      <td>1</td>\n",
       "      <td>16</td>\n",
       "      <td>0</td>\n",
       "      <td>...</td>\n",
       "      <td>No</td>\n",
       "      <td>No</td>\n",
       "      <td>No</td>\n",
       "      <td>Up</td>\n",
       "      <td>No</td>\n",
       "      <td>No</td>\n",
       "      <td>No</td>\n",
       "      <td>No</td>\n",
       "      <td>No</td>\n",
       "      <td>NO</td>\n",
       "    </tr>\n",
       "    <tr>\n",
       "      <th>4</th>\n",
       "      <td>16680</td>\n",
       "      <td>42519267</td>\n",
       "      <td>Caucasian</td>\n",
       "      <td>Male</td>\n",
       "      <td>[40-50)</td>\n",
       "      <td>1</td>\n",
       "      <td>51</td>\n",
       "      <td>0</td>\n",
       "      <td>8</td>\n",
       "      <td>0</td>\n",
       "      <td>...</td>\n",
       "      <td>No</td>\n",
       "      <td>No</td>\n",
       "      <td>No</td>\n",
       "      <td>Steady</td>\n",
       "      <td>No</td>\n",
       "      <td>No</td>\n",
       "      <td>No</td>\n",
       "      <td>No</td>\n",
       "      <td>No</td>\n",
       "      <td>NO</td>\n",
       "    </tr>\n",
       "  </tbody>\n",
       "</table>\n",
       "<p>5 rows × 37 columns</p>\n",
       "</div>"
      ],
      "text/plain": [
       "   encounter_id  patient_nbr             race  gender      age  \\\n",
       "0       2278392      8222157        Caucasian  Female   [0-10)   \n",
       "1        149190     55629189        Caucasian  Female  [10-20)   \n",
       "2         64410     86047875  AfricanAmerican  Female  [20-30)   \n",
       "3        500364     82442376        Caucasian    Male  [30-40)   \n",
       "4         16680     42519267        Caucasian    Male  [40-50)   \n",
       "\n",
       "   time_in_hospital  num_lab_procedures  num_procedures  num_medications  \\\n",
       "0                 1                  41               0                1   \n",
       "1                 3                  59               0               18   \n",
       "2                 2                  11               5               13   \n",
       "3                 2                  44               1               16   \n",
       "4                 1                  51               0                8   \n",
       "\n",
       "   number_outpatient  ...  troglitazone  tolazamide  sitagliptin insulin  \\\n",
       "0                  0  ...            No          No           No      No   \n",
       "1                  0  ...            No          No           No      Up   \n",
       "2                  2  ...            No          No           No      No   \n",
       "3                  0  ...            No          No           No      Up   \n",
       "4                  0  ...            No          No           No  Steady   \n",
       "\n",
       "  glyburide-metformin glipizide-metformin glimepiride-pioglitazone  \\\n",
       "0                  No                  No                       No   \n",
       "1                  No                  No                       No   \n",
       "2                  No                  No                       No   \n",
       "3                  No                  No                       No   \n",
       "4                  No                  No                       No   \n",
       "\n",
       "  metformin-rosiglitazone metformin-pioglitazone readmitted  \n",
       "0                      No                     No         NO  \n",
       "1                      No                     No        >30  \n",
       "2                      No                     No         NO  \n",
       "3                      No                     No         NO  \n",
       "4                      No                     No         NO  \n",
       "\n",
       "[5 rows x 37 columns]"
      ]
     },
     "execution_count": 6,
     "metadata": {},
     "output_type": "execute_result"
    }
   ],
   "source": [
    "data.head(5)"
   ]
  },
  {
   "cell_type": "code",
   "execution_count": 7,
   "metadata": {},
   "outputs": [
    {
     "data": {
      "text/plain": [
       "Index(['encounter_id', 'patient_nbr', 'race', 'gender', 'age',\n",
       "       'time_in_hospital', 'num_lab_procedures', 'num_procedures',\n",
       "       'num_medications', 'number_outpatient', 'number_emergency',\n",
       "       'number_inpatient', 'number_diagnoses', 'A1Cresult', 'metformin',\n",
       "       'repaglinide', 'nateglinide', 'chlorpropamide', 'glimepiride',\n",
       "       'acetohexamide', 'glipizide', 'glyburide', 'tolbutamide',\n",
       "       'pioglitazone', 'rosiglitazone', 'acarbose', 'miglitol', 'troglitazone',\n",
       "       'tolazamide', 'sitagliptin', 'insulin', 'glyburide-metformin',\n",
       "       'glipizide-metformin', 'glimepiride-pioglitazone',\n",
       "       'metformin-rosiglitazone', 'metformin-pioglitazone', 'readmitted'],\n",
       "      dtype='object')"
      ]
     },
     "execution_count": 7,
     "metadata": {},
     "output_type": "execute_result"
    }
   ],
   "source": [
    "data.columns"
   ]
  },
  {
   "cell_type": "code",
   "execution_count": 8,
   "metadata": {},
   "outputs": [
    {
     "data": {
      "text/plain": [
       "(101766, 34)"
      ]
     },
     "execution_count": 8,
     "metadata": {},
     "output_type": "execute_result"
    }
   ],
   "source": [
    "data.drop(['sitagliptin','acetohexamide','troglitazone'],axis=1,inplace=True)\n",
    "data.shape"
   ]
  },
  {
   "cell_type": "code",
   "execution_count": 9,
   "metadata": {},
   "outputs": [
    {
     "data": {
      "text/plain": [
       "((101766, 34), (101766, 37))"
      ]
     },
     "execution_count": 9,
     "metadata": {},
     "output_type": "execute_result"
    }
   ],
   "source": [
    "data_1.shape, data_2.shape"
   ]
  },
  {
   "cell_type": "code",
   "execution_count": 10,
   "metadata": {},
   "outputs": [],
   "source": [
    "del data_1\n",
    "del data_2"
   ]
  },
  {
   "cell_type": "code",
   "execution_count": 12,
   "metadata": {
    "scrolled": true
   },
   "outputs": [
    {
     "data": {
      "text/plain": [
       "{'metformin': 'No',\n",
       " 'repaglinide': 'No',\n",
       " 'nateglinide': 'No',\n",
       " 'chlorpropamide': 'No',\n",
       " 'glimepiride': 'No',\n",
       " 'glipizide': 'No',\n",
       " 'glyburide': 'No',\n",
       " 'tolbutamide': 'No',\n",
       " 'pioglitazone': 'No',\n",
       " 'rosiglitazone': 'No',\n",
       " 'acarbose': 'No',\n",
       " 'miglitol': 'No',\n",
       " 'tolazamide': 'No',\n",
       " 'insulin': 'No',\n",
       " 'glyburide-metformin': 'No',\n",
       " 'glipizide-metformin': 'No',\n",
       " 'glimepiride-pioglitazone': 'No',\n",
       " 'metformin-rosiglitazone': 'No',\n",
       " 'metformin-pioglitazone': 'No'}"
      ]
     },
     "execution_count": 12,
     "metadata": {},
     "output_type": "execute_result"
    }
   ],
   "source": [
    "##### .copy() pass on values without linking them in memory\n",
    "\n",
    "drug_columns = list(data.columns[14:-1])\n",
    "#drug_columns\n",
    "\n",
    "sample_series = data[drug_columns].iloc[0]\n",
    "sample_series\n",
    "\n",
    "sample_series.index\n",
    "\n",
    "sample_series.values\n",
    "\n",
    "sample_series.to_dict()"
   ]
  },
  {
   "cell_type": "code",
   "execution_count": 13,
   "metadata": {},
   "outputs": [],
   "source": [
    "\n",
    "#### python function\n",
    "\n",
    "list(sample_series.values).count('No')\n",
    "\n",
    "data['drug_presicribed'] = (data[drug_columns].apply(lambda x : list(x.values).count('No'),axis = 1) \n",
    "                               != 21)\n",
    "\n",
    "data_temp1 = data[data['drug_presicribed']]\n",
    "\n",
    "\n",
    "race_dummies = pd.get_dummies(data_temp1.race,prefix = 'race',dummy_na = True)\n",
    "\n",
    "data_temp1['bloodtested'] = (data_temp1.A1Cresult == 'None')\n",
    "\n",
    "age_mapper_dict = {i: int(i.split('-')[0][1:])+5 for i in data_temp1.age.value_counts(dropna = False).to_dict().keys()}\n",
    "\n",
    "data_temp1['age_cleaned'] = data_temp1.age.map(age_mapper_dict)"
   ]
  },
  {
   "cell_type": "code",
   "execution_count": 14,
   "metadata": {},
   "outputs": [
    {
     "data": {
      "text/plain": [
       "(101766, 7)"
      ]
     },
     "execution_count": 14,
     "metadata": {},
     "output_type": "execute_result"
    }
   ],
   "source": [
    "race_dummies.shape"
   ]
  },
  {
   "cell_type": "code",
   "execution_count": 15,
   "metadata": {},
   "outputs": [
    {
     "data": {
      "text/plain": [
       "<matplotlib.axes._subplots.AxesSubplot at 0x122d83b70>"
      ]
     },
     "execution_count": 15,
     "metadata": {},
     "output_type": "execute_result"
    },
    {
     "data": {
      "image/png": "[encoded data removed]",
      "text/plain": [
       "<Figure size 432x288 with 1 Axes>"
      ]
     },
     "metadata": {
      "needs_background": "light"
     },
     "output_type": "display_data"
    }
   ],
   "source": [
    "data_temp1.readmitted.value_counts().plot(kind='bar')"
   ]
  },
  {
   "cell_type": "markdown",
   "metadata": {},
   "source": [
    "### plots"
   ]
  },
  {
   "cell_type": "code",
   "execution_count": 16,
   "metadata": {},
   "outputs": [
    {
     "data": {
      "text/plain": [
       "<matplotlib.axes._subplots.AxesSubplot at 0x111d06908>"
      ]
     },
     "execution_count": 16,
     "metadata": {},
     "output_type": "execute_result"
    },
    {
     "data": {
      "image/png": "[encoded data removed]",
      "text/plain": [
       "<Figure size 432x288 with 1 Axes>"
      ]
     },
     "metadata": {
      "needs_background": "light"
     },
     "output_type": "display_data"
    }
   ],
   "source": [
    "data_temp1.race[data_temp1.readmitted=='<30'].value_counts().plot(kind='bar')\n"
   ]
  },
  {
   "cell_type": "markdown",
   "metadata": {},
   "source": [
    "### standardlize num features"
   ]
  },
  {
   "cell_type": "code",
   "execution_count": 17,
   "metadata": {},
   "outputs": [],
   "source": [
    "from sklearn.preprocessing import StandardScaler\n",
    "scaler = StandardScaler()"
   ]
  },
  {
   "cell_type": "code",
   "execution_count": 18,
   "metadata": {},
   "outputs": [],
   "source": [
    "base_line_features = ['time_in_hospital', 'num_lab_procedures', \n",
    "                      'num_procedures','num_medications', 'number_outpatient', \n",
    "                      'number_emergency','number_inpatient', 'number_diagnoses','gender']\n",
    "\n",
    "base_line_features += ['bloodtested','age_cleaned']\n",
    "base_line_features += ['encounter_id']\n",
    "\n",
    "base_line_X = (data_temp1[base_line_features].merge(race_dummies,left_index = True,right_index = True))\n",
    "base_line_X['gender'] = base_line_X['gender'] == 'Female'"
   ]
  },
  {
   "cell_type": "code",
   "execution_count": 19,
   "metadata": {},
   "outputs": [],
   "source": [
    "num_features = ['age_cleaned','time_in_hospital','num_lab_procedures','num_procedures',\n",
    "              'num_medications','number_outpatient','number_emergency',\n",
    "              'number_inpatient'   ,'number_diagnoses' ]\n",
    "scaler.fit(base_line_X[num_features])\n",
    "new_num_features_values = scaler.transform(base_line_X[num_features])\n",
    "new_num_features  = pd.DataFrame(new_num_features_values,columns = num_features)"
   ]
  },
  {
   "cell_type": "code",
   "execution_count": 20,
   "metadata": {
    "scrolled": true
   },
   "outputs": [],
   "source": [
    "based_line_X_std = base_line_X[[i for i in base_line_X.columns if i not in num_features]].merge(new_num_features,left_index = True,right_index = True)"
   ]
  },
  {
   "cell_type": "code",
   "execution_count": 21,
   "metadata": {
    "scrolled": true
   },
   "outputs": [
    {
     "data": {
      "text/html": [
       "<div>\n",
       "<style scoped>\n",
       "    .dataframe tbody tr th:only-of-type {\n",
       "        vertical-align: middle;\n",
       "    }\n",
       "\n",
       "    .dataframe tbody tr th {\n",
       "        vertical-align: top;\n",
       "    }\n",
       "\n",
       "    .dataframe thead th {\n",
       "        text-align: right;\n",
       "    }\n",
       "</style>\n",
       "<table border=\"1\" class=\"dataframe\">\n",
       "  <thead>\n",
       "    <tr style=\"text-align: right;\">\n",
       "      <th></th>\n",
       "      <th>gender</th>\n",
       "      <th>bloodtested</th>\n",
       "      <th>encounter_id</th>\n",
       "      <th>race_?</th>\n",
       "      <th>race_AfricanAmerican</th>\n",
       "      <th>race_Asian</th>\n",
       "      <th>race_Caucasian</th>\n",
       "      <th>race_Hispanic</th>\n",
       "      <th>race_Other</th>\n",
       "      <th>race_nan</th>\n",
       "      <th>age_cleaned</th>\n",
       "      <th>time_in_hospital</th>\n",
       "      <th>num_lab_procedures</th>\n",
       "      <th>num_procedures</th>\n",
       "      <th>num_medications</th>\n",
       "      <th>number_outpatient</th>\n",
       "      <th>number_emergency</th>\n",
       "      <th>number_inpatient</th>\n",
       "      <th>number_diagnoses</th>\n",
       "    </tr>\n",
       "  </thead>\n",
       "  <tbody>\n",
       "    <tr>\n",
       "      <th>0</th>\n",
       "      <td>True</td>\n",
       "      <td>True</td>\n",
       "      <td>2278392</td>\n",
       "      <td>0</td>\n",
       "      <td>0</td>\n",
       "      <td>0</td>\n",
       "      <td>1</td>\n",
       "      <td>0</td>\n",
       "      <td>0</td>\n",
       "      <td>0</td>\n",
       "      <td>-3.824600</td>\n",
       "      <td>-1.137649</td>\n",
       "      <td>-0.106517</td>\n",
       "      <td>-0.785398</td>\n",
       "      <td>-1.848268</td>\n",
       "      <td>-0.291461</td>\n",
       "      <td>-0.212620</td>\n",
       "      <td>-0.503276</td>\n",
       "      <td>-3.321596</td>\n",
       "    </tr>\n",
       "    <tr>\n",
       "      <th>1</th>\n",
       "      <td>True</td>\n",
       "      <td>True</td>\n",
       "      <td>149190</td>\n",
       "      <td>0</td>\n",
       "      <td>0</td>\n",
       "      <td>0</td>\n",
       "      <td>1</td>\n",
       "      <td>0</td>\n",
       "      <td>0</td>\n",
       "      <td>0</td>\n",
       "      <td>-3.197277</td>\n",
       "      <td>-0.467653</td>\n",
       "      <td>0.808384</td>\n",
       "      <td>-0.785398</td>\n",
       "      <td>0.243390</td>\n",
       "      <td>-0.291461</td>\n",
       "      <td>-0.212620</td>\n",
       "      <td>-0.503276</td>\n",
       "      <td>0.815784</td>\n",
       "    </tr>\n",
       "    <tr>\n",
       "      <th>2</th>\n",
       "      <td>True</td>\n",
       "      <td>True</td>\n",
       "      <td>64410</td>\n",
       "      <td>0</td>\n",
       "      <td>1</td>\n",
       "      <td>0</td>\n",
       "      <td>0</td>\n",
       "      <td>0</td>\n",
       "      <td>0</td>\n",
       "      <td>0</td>\n",
       "      <td>-2.569954</td>\n",
       "      <td>-0.802651</td>\n",
       "      <td>-1.631351</td>\n",
       "      <td>2.145781</td>\n",
       "      <td>-0.371804</td>\n",
       "      <td>1.286748</td>\n",
       "      <td>-0.212620</td>\n",
       "      <td>0.288579</td>\n",
       "      <td>-0.735733</td>\n",
       "    </tr>\n",
       "    <tr>\n",
       "      <th>3</th>\n",
       "      <td>False</td>\n",
       "      <td>True</td>\n",
       "      <td>500364</td>\n",
       "      <td>0</td>\n",
       "      <td>0</td>\n",
       "      <td>0</td>\n",
       "      <td>1</td>\n",
       "      <td>0</td>\n",
       "      <td>0</td>\n",
       "      <td>0</td>\n",
       "      <td>-1.942632</td>\n",
       "      <td>-0.802651</td>\n",
       "      <td>0.045967</td>\n",
       "      <td>-0.199162</td>\n",
       "      <td>-0.002688</td>\n",
       "      <td>-0.291461</td>\n",
       "      <td>-0.212620</td>\n",
       "      <td>-0.503276</td>\n",
       "      <td>-0.218561</td>\n",
       "    </tr>\n",
       "    <tr>\n",
       "      <th>4</th>\n",
       "      <td>False</td>\n",
       "      <td>True</td>\n",
       "      <td>16680</td>\n",
       "      <td>0</td>\n",
       "      <td>0</td>\n",
       "      <td>0</td>\n",
       "      <td>1</td>\n",
       "      <td>0</td>\n",
       "      <td>0</td>\n",
       "      <td>0</td>\n",
       "      <td>-1.315309</td>\n",
       "      <td>-1.137649</td>\n",
       "      <td>0.401761</td>\n",
       "      <td>-0.785398</td>\n",
       "      <td>-0.986997</td>\n",
       "      <td>-0.291461</td>\n",
       "      <td>-0.212620</td>\n",
       "      <td>-0.503276</td>\n",
       "      <td>-1.252906</td>\n",
       "    </tr>\n",
       "    <tr>\n",
       "      <th>5</th>\n",
       "      <td>False</td>\n",
       "      <td>True</td>\n",
       "      <td>35754</td>\n",
       "      <td>0</td>\n",
       "      <td>0</td>\n",
       "      <td>0</td>\n",
       "      <td>1</td>\n",
       "      <td>0</td>\n",
       "      <td>0</td>\n",
       "      <td>0</td>\n",
       "      <td>-0.687986</td>\n",
       "      <td>-0.467653</td>\n",
       "      <td>-0.614795</td>\n",
       "      <td>2.732016</td>\n",
       "      <td>-0.002688</td>\n",
       "      <td>-0.291461</td>\n",
       "      <td>-0.212620</td>\n",
       "      <td>-0.503276</td>\n",
       "      <td>0.815784</td>\n",
       "    </tr>\n",
       "    <tr>\n",
       "      <th>6</th>\n",
       "      <td>False</td>\n",
       "      <td>True</td>\n",
       "      <td>55842</td>\n",
       "      <td>0</td>\n",
       "      <td>0</td>\n",
       "      <td>0</td>\n",
       "      <td>1</td>\n",
       "      <td>0</td>\n",
       "      <td>0</td>\n",
       "      <td>0</td>\n",
       "      <td>-0.060664</td>\n",
       "      <td>-0.132655</td>\n",
       "      <td>1.367490</td>\n",
       "      <td>-0.199162</td>\n",
       "      <td>0.612506</td>\n",
       "      <td>-0.291461</td>\n",
       "      <td>-0.212620</td>\n",
       "      <td>-0.503276</td>\n",
       "      <td>-0.218561</td>\n",
       "    </tr>\n",
       "    <tr>\n",
       "      <th>7</th>\n",
       "      <td>False</td>\n",
       "      <td>True</td>\n",
       "      <td>63768</td>\n",
       "      <td>0</td>\n",
       "      <td>0</td>\n",
       "      <td>0</td>\n",
       "      <td>1</td>\n",
       "      <td>0</td>\n",
       "      <td>0</td>\n",
       "      <td>0</td>\n",
       "      <td>0.566659</td>\n",
       "      <td>0.202343</td>\n",
       "      <td>1.519973</td>\n",
       "      <td>-0.785398</td>\n",
       "      <td>-0.494842</td>\n",
       "      <td>-0.291461</td>\n",
       "      <td>-0.212620</td>\n",
       "      <td>-0.503276</td>\n",
       "      <td>0.298612</td>\n",
       "    </tr>\n",
       "    <tr>\n",
       "      <th>8</th>\n",
       "      <td>True</td>\n",
       "      <td>True</td>\n",
       "      <td>12522</td>\n",
       "      <td>0</td>\n",
       "      <td>0</td>\n",
       "      <td>0</td>\n",
       "      <td>1</td>\n",
       "      <td>0</td>\n",
       "      <td>0</td>\n",
       "      <td>0</td>\n",
       "      <td>1.193982</td>\n",
       "      <td>2.882327</td>\n",
       "      <td>1.265834</td>\n",
       "      <td>0.387074</td>\n",
       "      <td>1.473776</td>\n",
       "      <td>-0.291461</td>\n",
       "      <td>-0.212620</td>\n",
       "      <td>-0.503276</td>\n",
       "      <td>0.298612</td>\n",
       "    </tr>\n",
       "    <tr>\n",
       "      <th>9</th>\n",
       "      <td>True</td>\n",
       "      <td>True</td>\n",
       "      <td>15738</td>\n",
       "      <td>0</td>\n",
       "      <td>0</td>\n",
       "      <td>0</td>\n",
       "      <td>1</td>\n",
       "      <td>0</td>\n",
       "      <td>0</td>\n",
       "      <td>0</td>\n",
       "      <td>1.821305</td>\n",
       "      <td>2.547329</td>\n",
       "      <td>-0.513139</td>\n",
       "      <td>0.973309</td>\n",
       "      <td>0.243390</td>\n",
       "      <td>-0.291461</td>\n",
       "      <td>-0.212620</td>\n",
       "      <td>-0.503276</td>\n",
       "      <td>0.298612</td>\n",
       "    </tr>\n",
       "    <tr>\n",
       "      <th>10</th>\n",
       "      <td>True</td>\n",
       "      <td>True</td>\n",
       "      <td>28236</td>\n",
       "      <td>0</td>\n",
       "      <td>1</td>\n",
       "      <td>0</td>\n",
       "      <td>0</td>\n",
       "      <td>0</td>\n",
       "      <td>0</td>\n",
       "      <td>0</td>\n",
       "      <td>-1.315309</td>\n",
       "      <td>1.542335</td>\n",
       "      <td>0.198450</td>\n",
       "      <td>0.387074</td>\n",
       "      <td>0.120351</td>\n",
       "      <td>-0.291461</td>\n",
       "      <td>-0.212620</td>\n",
       "      <td>-0.503276</td>\n",
       "      <td>0.815784</td>\n",
       "    </tr>\n",
       "    <tr>\n",
       "      <th>11</th>\n",
       "      <td>False</td>\n",
       "      <td>True</td>\n",
       "      <td>36900</td>\n",
       "      <td>0</td>\n",
       "      <td>1</td>\n",
       "      <td>0</td>\n",
       "      <td>0</td>\n",
       "      <td>0</td>\n",
       "      <td>0</td>\n",
       "      <td>0</td>\n",
       "      <td>-0.060664</td>\n",
       "      <td>0.872339</td>\n",
       "      <td>0.960867</td>\n",
       "      <td>-0.785398</td>\n",
       "      <td>-0.617881</td>\n",
       "      <td>-0.291461</td>\n",
       "      <td>-0.212620</td>\n",
       "      <td>-0.503276</td>\n",
       "      <td>-0.218561</td>\n",
       "    </tr>\n",
       "    <tr>\n",
       "      <th>12</th>\n",
       "      <td>True</td>\n",
       "      <td>True</td>\n",
       "      <td>40926</td>\n",
       "      <td>0</td>\n",
       "      <td>0</td>\n",
       "      <td>0</td>\n",
       "      <td>1</td>\n",
       "      <td>0</td>\n",
       "      <td>0</td>\n",
       "      <td>0</td>\n",
       "      <td>-1.315309</td>\n",
       "      <td>0.872339</td>\n",
       "      <td>0.859212</td>\n",
       "      <td>-0.785398</td>\n",
       "      <td>-0.125726</td>\n",
       "      <td>-0.291461</td>\n",
       "      <td>0.862108</td>\n",
       "      <td>-0.503276</td>\n",
       "      <td>0.298612</td>\n",
       "    </tr>\n",
       "    <tr>\n",
       "      <th>13</th>\n",
       "      <td>False</td>\n",
       "      <td>True</td>\n",
       "      <td>42570</td>\n",
       "      <td>0</td>\n",
       "      <td>0</td>\n",
       "      <td>0</td>\n",
       "      <td>1</td>\n",
       "      <td>0</td>\n",
       "      <td>0</td>\n",
       "      <td>0</td>\n",
       "      <td>1.193982</td>\n",
       "      <td>1.877333</td>\n",
       "      <td>0.605073</td>\n",
       "      <td>-0.199162</td>\n",
       "      <td>1.842892</td>\n",
       "      <td>-0.291461</td>\n",
       "      <td>-0.212620</td>\n",
       "      <td>-0.503276</td>\n",
       "      <td>0.298612</td>\n",
       "    </tr>\n",
       "    <tr>\n",
       "      <th>14</th>\n",
       "      <td>True</td>\n",
       "      <td>True</td>\n",
       "      <td>62256</td>\n",
       "      <td>0</td>\n",
       "      <td>1</td>\n",
       "      <td>0</td>\n",
       "      <td>0</td>\n",
       "      <td>0</td>\n",
       "      <td>0</td>\n",
       "      <td>0</td>\n",
       "      <td>-0.060664</td>\n",
       "      <td>-1.137649</td>\n",
       "      <td>0.300106</td>\n",
       "      <td>2.145781</td>\n",
       "      <td>-1.725229</td>\n",
       "      <td>-0.291461</td>\n",
       "      <td>-0.212620</td>\n",
       "      <td>-0.503276</td>\n",
       "      <td>0.298612</td>\n",
       "    </tr>\n",
       "    <tr>\n",
       "      <th>15</th>\n",
       "      <td>False</td>\n",
       "      <td>True</td>\n",
       "      <td>73578</td>\n",
       "      <td>0</td>\n",
       "      <td>1</td>\n",
       "      <td>0</td>\n",
       "      <td>0</td>\n",
       "      <td>0</td>\n",
       "      <td>0</td>\n",
       "      <td>0</td>\n",
       "      <td>-0.060664</td>\n",
       "      <td>2.547329</td>\n",
       "      <td>1.621629</td>\n",
       "      <td>2.145781</td>\n",
       "      <td>-0.371804</td>\n",
       "      <td>-0.291461</td>\n",
       "      <td>-0.212620</td>\n",
       "      <td>-0.503276</td>\n",
       "      <td>0.815784</td>\n",
       "    </tr>\n",
       "    <tr>\n",
       "      <th>16</th>\n",
       "      <td>False</td>\n",
       "      <td>True</td>\n",
       "      <td>77076</td>\n",
       "      <td>0</td>\n",
       "      <td>1</td>\n",
       "      <td>0</td>\n",
       "      <td>0</td>\n",
       "      <td>0</td>\n",
       "      <td>0</td>\n",
       "      <td>0</td>\n",
       "      <td>-0.687986</td>\n",
       "      <td>-0.132655</td>\n",
       "      <td>0.096794</td>\n",
       "      <td>1.559545</td>\n",
       "      <td>0.120351</td>\n",
       "      <td>-0.291461</td>\n",
       "      <td>-0.212620</td>\n",
       "      <td>-0.503276</td>\n",
       "      <td>0.298612</td>\n",
       "    </tr>\n",
       "    <tr>\n",
       "      <th>17</th>\n",
       "      <td>True</td>\n",
       "      <td>True</td>\n",
       "      <td>84222</td>\n",
       "      <td>0</td>\n",
       "      <td>0</td>\n",
       "      <td>0</td>\n",
       "      <td>1</td>\n",
       "      <td>0</td>\n",
       "      <td>0</td>\n",
       "      <td>0</td>\n",
       "      <td>-0.687986</td>\n",
       "      <td>-0.467653</td>\n",
       "      <td>-0.716451</td>\n",
       "      <td>-0.785398</td>\n",
       "      <td>-0.617881</td>\n",
       "      <td>-0.291461</td>\n",
       "      <td>-0.212620</td>\n",
       "      <td>-0.503276</td>\n",
       "      <td>-2.287251</td>\n",
       "    </tr>\n",
       "    <tr>\n",
       "      <th>18</th>\n",
       "      <td>False</td>\n",
       "      <td>True</td>\n",
       "      <td>89682</td>\n",
       "      <td>0</td>\n",
       "      <td>1</td>\n",
       "      <td>0</td>\n",
       "      <td>0</td>\n",
       "      <td>0</td>\n",
       "      <td>0</td>\n",
       "      <td>0</td>\n",
       "      <td>0.566659</td>\n",
       "      <td>0.202343</td>\n",
       "      <td>-0.411484</td>\n",
       "      <td>2.145781</td>\n",
       "      <td>0.858583</td>\n",
       "      <td>-0.291461</td>\n",
       "      <td>-0.212620</td>\n",
       "      <td>-0.503276</td>\n",
       "      <td>0.815784</td>\n",
       "    </tr>\n",
       "    <tr>\n",
       "      <th>19</th>\n",
       "      <td>False</td>\n",
       "      <td>True</td>\n",
       "      <td>148530</td>\n",
       "      <td>1</td>\n",
       "      <td>0</td>\n",
       "      <td>0</td>\n",
       "      <td>0</td>\n",
       "      <td>0</td>\n",
       "      <td>0</td>\n",
       "      <td>0</td>\n",
       "      <td>0.566659</td>\n",
       "      <td>0.537341</td>\n",
       "      <td>-0.055689</td>\n",
       "      <td>0.387074</td>\n",
       "      <td>0.858583</td>\n",
       "      <td>-0.291461</td>\n",
       "      <td>-0.212620</td>\n",
       "      <td>-0.503276</td>\n",
       "      <td>0.298612</td>\n",
       "    </tr>\n",
       "    <tr>\n",
       "      <th>20</th>\n",
       "      <td>True</td>\n",
       "      <td>True</td>\n",
       "      <td>150006</td>\n",
       "      <td>1</td>\n",
       "      <td>0</td>\n",
       "      <td>0</td>\n",
       "      <td>0</td>\n",
       "      <td>0</td>\n",
       "      <td>0</td>\n",
       "      <td>0</td>\n",
       "      <td>-0.687986</td>\n",
       "      <td>-0.802651</td>\n",
       "      <td>1.164179</td>\n",
       "      <td>-0.199162</td>\n",
       "      <td>0.366428</td>\n",
       "      <td>-0.291461</td>\n",
       "      <td>-0.212620</td>\n",
       "      <td>-0.503276</td>\n",
       "      <td>-0.218561</td>\n",
       "    </tr>\n",
       "    <tr>\n",
       "      <th>21</th>\n",
       "      <td>False</td>\n",
       "      <td>True</td>\n",
       "      <td>150048</td>\n",
       "      <td>1</td>\n",
       "      <td>0</td>\n",
       "      <td>0</td>\n",
       "      <td>0</td>\n",
       "      <td>0</td>\n",
       "      <td>0</td>\n",
       "      <td>0</td>\n",
       "      <td>-0.060664</td>\n",
       "      <td>-0.802651</td>\n",
       "      <td>-0.360656</td>\n",
       "      <td>0.387074</td>\n",
       "      <td>-0.617881</td>\n",
       "      <td>-0.291461</td>\n",
       "      <td>-0.212620</td>\n",
       "      <td>-0.503276</td>\n",
       "      <td>-0.735733</td>\n",
       "    </tr>\n",
       "    <tr>\n",
       "      <th>22</th>\n",
       "      <td>True</td>\n",
       "      <td>True</td>\n",
       "      <td>182796</td>\n",
       "      <td>0</td>\n",
       "      <td>1</td>\n",
       "      <td>0</td>\n",
       "      <td>0</td>\n",
       "      <td>0</td>\n",
       "      <td>0</td>\n",
       "      <td>0</td>\n",
       "      <td>0.566659</td>\n",
       "      <td>-0.802651</td>\n",
       "      <td>0.198450</td>\n",
       "      <td>-0.785398</td>\n",
       "      <td>-0.494842</td>\n",
       "      <td>-0.291461</td>\n",
       "      <td>-0.212620</td>\n",
       "      <td>-0.503276</td>\n",
       "      <td>0.298612</td>\n",
       "    </tr>\n",
       "    <tr>\n",
       "      <th>23</th>\n",
       "      <td>True</td>\n",
       "      <td>True</td>\n",
       "      <td>183930</td>\n",
       "      <td>0</td>\n",
       "      <td>0</td>\n",
       "      <td>0</td>\n",
       "      <td>1</td>\n",
       "      <td>0</td>\n",
       "      <td>0</td>\n",
       "      <td>0</td>\n",
       "      <td>1.193982</td>\n",
       "      <td>2.212331</td>\n",
       "      <td>-0.055689</td>\n",
       "      <td>0.387074</td>\n",
       "      <td>0.366428</td>\n",
       "      <td>-0.291461</td>\n",
       "      <td>-0.212620</td>\n",
       "      <td>-0.503276</td>\n",
       "      <td>0.298612</td>\n",
       "    </tr>\n",
       "    <tr>\n",
       "      <th>24</th>\n",
       "      <td>True</td>\n",
       "      <td>True</td>\n",
       "      <td>216156</td>\n",
       "      <td>0</td>\n",
       "      <td>1</td>\n",
       "      <td>0</td>\n",
       "      <td>0</td>\n",
       "      <td>0</td>\n",
       "      <td>0</td>\n",
       "      <td>0</td>\n",
       "      <td>0.566659</td>\n",
       "      <td>-0.467653</td>\n",
       "      <td>-1.224729</td>\n",
       "      <td>1.559545</td>\n",
       "      <td>0.243390</td>\n",
       "      <td>-0.291461</td>\n",
       "      <td>-0.212620</td>\n",
       "      <td>-0.503276</td>\n",
       "      <td>-0.735733</td>\n",
       "    </tr>\n",
       "    <tr>\n",
       "      <th>25</th>\n",
       "      <td>True</td>\n",
       "      <td>True</td>\n",
       "      <td>221634</td>\n",
       "      <td>0</td>\n",
       "      <td>0</td>\n",
       "      <td>0</td>\n",
       "      <td>0</td>\n",
       "      <td>0</td>\n",
       "      <td>1</td>\n",
       "      <td>0</td>\n",
       "      <td>-0.687986</td>\n",
       "      <td>-1.137649</td>\n",
       "      <td>-0.513139</td>\n",
       "      <td>-0.785398</td>\n",
       "      <td>-1.110036</td>\n",
       "      <td>-0.291461</td>\n",
       "      <td>-0.212620</td>\n",
       "      <td>-0.503276</td>\n",
       "      <td>-2.287251</td>\n",
       "    </tr>\n",
       "    <tr>\n",
       "      <th>26</th>\n",
       "      <td>False</td>\n",
       "      <td>False</td>\n",
       "      <td>236316</td>\n",
       "      <td>0</td>\n",
       "      <td>0</td>\n",
       "      <td>0</td>\n",
       "      <td>1</td>\n",
       "      <td>0</td>\n",
       "      <td>0</td>\n",
       "      <td>0</td>\n",
       "      <td>1.193982</td>\n",
       "      <td>0.537341</td>\n",
       "      <td>1.062523</td>\n",
       "      <td>0.973309</td>\n",
       "      <td>0.243390</td>\n",
       "      <td>-0.291461</td>\n",
       "      <td>-0.212620</td>\n",
       "      <td>-0.503276</td>\n",
       "      <td>-0.218561</td>\n",
       "    </tr>\n",
       "    <tr>\n",
       "      <th>27</th>\n",
       "      <td>True</td>\n",
       "      <td>True</td>\n",
       "      <td>248916</td>\n",
       "      <td>0</td>\n",
       "      <td>0</td>\n",
       "      <td>0</td>\n",
       "      <td>1</td>\n",
       "      <td>0</td>\n",
       "      <td>0</td>\n",
       "      <td>0</td>\n",
       "      <td>-0.687986</td>\n",
       "      <td>-0.802651</td>\n",
       "      <td>-0.919762</td>\n",
       "      <td>0.387074</td>\n",
       "      <td>-0.617881</td>\n",
       "      <td>-0.291461</td>\n",
       "      <td>-0.212620</td>\n",
       "      <td>-0.503276</td>\n",
       "      <td>-2.287251</td>\n",
       "    </tr>\n",
       "    <tr>\n",
       "      <th>28</th>\n",
       "      <td>False</td>\n",
       "      <td>True</td>\n",
       "      <td>250872</td>\n",
       "      <td>0</td>\n",
       "      <td>0</td>\n",
       "      <td>0</td>\n",
       "      <td>1</td>\n",
       "      <td>0</td>\n",
       "      <td>0</td>\n",
       "      <td>0</td>\n",
       "      <td>-2.569954</td>\n",
       "      <td>1.877333</td>\n",
       "      <td>0.503417</td>\n",
       "      <td>-0.785398</td>\n",
       "      <td>0.489467</td>\n",
       "      <td>-0.291461</td>\n",
       "      <td>-0.212620</td>\n",
       "      <td>-0.503276</td>\n",
       "      <td>-0.735733</td>\n",
       "    </tr>\n",
       "    <tr>\n",
       "      <th>29</th>\n",
       "      <td>True</td>\n",
       "      <td>True</td>\n",
       "      <td>252822</td>\n",
       "      <td>0</td>\n",
       "      <td>0</td>\n",
       "      <td>0</td>\n",
       "      <td>1</td>\n",
       "      <td>0</td>\n",
       "      <td>0</td>\n",
       "      <td>0</td>\n",
       "      <td>1.193982</td>\n",
       "      <td>0.202343</td>\n",
       "      <td>0.452589</td>\n",
       "      <td>-0.785398</td>\n",
       "      <td>-0.248765</td>\n",
       "      <td>-0.291461</td>\n",
       "      <td>-0.212620</td>\n",
       "      <td>-0.503276</td>\n",
       "      <td>0.298612</td>\n",
       "    </tr>\n",
       "    <tr>\n",
       "      <th>...</th>\n",
       "      <td>...</td>\n",
       "      <td>...</td>\n",
       "      <td>...</td>\n",
       "      <td>...</td>\n",
       "      <td>...</td>\n",
       "      <td>...</td>\n",
       "      <td>...</td>\n",
       "      <td>...</td>\n",
       "      <td>...</td>\n",
       "      <td>...</td>\n",
       "      <td>...</td>\n",
       "      <td>...</td>\n",
       "      <td>...</td>\n",
       "      <td>...</td>\n",
       "      <td>...</td>\n",
       "      <td>...</td>\n",
       "      <td>...</td>\n",
       "      <td>...</td>\n",
       "      <td>...</td>\n",
       "    </tr>\n",
       "    <tr>\n",
       "      <th>101736</th>\n",
       "      <td>True</td>\n",
       "      <td>True</td>\n",
       "      <td>443739152</td>\n",
       "      <td>0</td>\n",
       "      <td>0</td>\n",
       "      <td>0</td>\n",
       "      <td>1</td>\n",
       "      <td>0</td>\n",
       "      <td>0</td>\n",
       "      <td>0</td>\n",
       "      <td>-0.060664</td>\n",
       "      <td>1.207337</td>\n",
       "      <td>0.554245</td>\n",
       "      <td>-0.199162</td>\n",
       "      <td>0.489467</td>\n",
       "      <td>0.497643</td>\n",
       "      <td>-0.212620</td>\n",
       "      <td>0.288579</td>\n",
       "      <td>0.815784</td>\n",
       "    </tr>\n",
       "    <tr>\n",
       "      <th>101737</th>\n",
       "      <td>True</td>\n",
       "      <td>True</td>\n",
       "      <td>443775086</td>\n",
       "      <td>0</td>\n",
       "      <td>0</td>\n",
       "      <td>0</td>\n",
       "      <td>1</td>\n",
       "      <td>0</td>\n",
       "      <td>0</td>\n",
       "      <td>0</td>\n",
       "      <td>-1.315309</td>\n",
       "      <td>-0.132655</td>\n",
       "      <td>0.350934</td>\n",
       "      <td>1.559545</td>\n",
       "      <td>1.104660</td>\n",
       "      <td>-0.291461</td>\n",
       "      <td>-0.212620</td>\n",
       "      <td>-0.503276</td>\n",
       "      <td>0.815784</td>\n",
       "    </tr>\n",
       "    <tr>\n",
       "      <th>101738</th>\n",
       "      <td>False</td>\n",
       "      <td>True</td>\n",
       "      <td>443775482</td>\n",
       "      <td>0</td>\n",
       "      <td>0</td>\n",
       "      <td>0</td>\n",
       "      <td>1</td>\n",
       "      <td>0</td>\n",
       "      <td>0</td>\n",
       "      <td>0</td>\n",
       "      <td>0.566659</td>\n",
       "      <td>-1.137649</td>\n",
       "      <td>-0.309828</td>\n",
       "      <td>-0.785398</td>\n",
       "      <td>-0.740920</td>\n",
       "      <td>-0.291461</td>\n",
       "      <td>-0.212620</td>\n",
       "      <td>1.080434</td>\n",
       "      <td>-0.218561</td>\n",
       "    </tr>\n",
       "    <tr>\n",
       "      <th>101739</th>\n",
       "      <td>False</td>\n",
       "      <td>True</td>\n",
       "      <td>443775740</td>\n",
       "      <td>0</td>\n",
       "      <td>1</td>\n",
       "      <td>0</td>\n",
       "      <td>0</td>\n",
       "      <td>0</td>\n",
       "      <td>0</td>\n",
       "      <td>0</td>\n",
       "      <td>0.566659</td>\n",
       "      <td>-1.137649</td>\n",
       "      <td>-0.563967</td>\n",
       "      <td>2.732016</td>\n",
       "      <td>-0.248765</td>\n",
       "      <td>1.286748</td>\n",
       "      <td>-0.212620</td>\n",
       "      <td>1.080434</td>\n",
       "      <td>0.815784</td>\n",
       "    </tr>\n",
       "    <tr>\n",
       "      <th>101740</th>\n",
       "      <td>False</td>\n",
       "      <td>True</td>\n",
       "      <td>443778398</td>\n",
       "      <td>0</td>\n",
       "      <td>0</td>\n",
       "      <td>0</td>\n",
       "      <td>1</td>\n",
       "      <td>0</td>\n",
       "      <td>0</td>\n",
       "      <td>0</td>\n",
       "      <td>-1.315309</td>\n",
       "      <td>-1.137649</td>\n",
       "      <td>-2.139630</td>\n",
       "      <td>2.145781</td>\n",
       "      <td>-0.986997</td>\n",
       "      <td>-0.291461</td>\n",
       "      <td>-0.212620</td>\n",
       "      <td>-0.503276</td>\n",
       "      <td>-1.770078</td>\n",
       "    </tr>\n",
       "    <tr>\n",
       "      <th>101741</th>\n",
       "      <td>False</td>\n",
       "      <td>True</td>\n",
       "      <td>443787128</td>\n",
       "      <td>0</td>\n",
       "      <td>1</td>\n",
       "      <td>0</td>\n",
       "      <td>0</td>\n",
       "      <td>0</td>\n",
       "      <td>0</td>\n",
       "      <td>0</td>\n",
       "      <td>1.821305</td>\n",
       "      <td>-0.132655</td>\n",
       "      <td>-1.123073</td>\n",
       "      <td>-0.199162</td>\n",
       "      <td>-0.986997</td>\n",
       "      <td>-0.291461</td>\n",
       "      <td>-0.212620</td>\n",
       "      <td>0.288579</td>\n",
       "      <td>0.815784</td>\n",
       "    </tr>\n",
       "    <tr>\n",
       "      <th>101742</th>\n",
       "      <td>False</td>\n",
       "      <td>False</td>\n",
       "      <td>443787512</td>\n",
       "      <td>0</td>\n",
       "      <td>0</td>\n",
       "      <td>0</td>\n",
       "      <td>1</td>\n",
       "      <td>0</td>\n",
       "      <td>0</td>\n",
       "      <td>0</td>\n",
       "      <td>0.566659</td>\n",
       "      <td>-0.132655</td>\n",
       "      <td>-0.004861</td>\n",
       "      <td>-0.785398</td>\n",
       "      <td>-0.740920</td>\n",
       "      <td>-0.291461</td>\n",
       "      <td>-0.212620</td>\n",
       "      <td>-0.503276</td>\n",
       "      <td>0.815784</td>\n",
       "    </tr>\n",
       "    <tr>\n",
       "      <th>101743</th>\n",
       "      <td>False</td>\n",
       "      <td>True</td>\n",
       "      <td>443793668</td>\n",
       "      <td>0</td>\n",
       "      <td>0</td>\n",
       "      <td>0</td>\n",
       "      <td>1</td>\n",
       "      <td>0</td>\n",
       "      <td>0</td>\n",
       "      <td>0</td>\n",
       "      <td>1.193982</td>\n",
       "      <td>-0.467653</td>\n",
       "      <td>0.096794</td>\n",
       "      <td>-0.785398</td>\n",
       "      <td>1.227699</td>\n",
       "      <td>0.497643</td>\n",
       "      <td>-0.212620</td>\n",
       "      <td>0.288579</td>\n",
       "      <td>0.815784</td>\n",
       "    </tr>\n",
       "    <tr>\n",
       "      <th>101744</th>\n",
       "      <td>True</td>\n",
       "      <td>True</td>\n",
       "      <td>443793992</td>\n",
       "      <td>0</td>\n",
       "      <td>0</td>\n",
       "      <td>0</td>\n",
       "      <td>1</td>\n",
       "      <td>0</td>\n",
       "      <td>0</td>\n",
       "      <td>0</td>\n",
       "      <td>1.193982</td>\n",
       "      <td>-1.137649</td>\n",
       "      <td>0.300106</td>\n",
       "      <td>-0.785398</td>\n",
       "      <td>-0.494842</td>\n",
       "      <td>-0.291461</td>\n",
       "      <td>-0.212620</td>\n",
       "      <td>-0.503276</td>\n",
       "      <td>0.815784</td>\n",
       "    </tr>\n",
       "    <tr>\n",
       "      <th>101745</th>\n",
       "      <td>False</td>\n",
       "      <td>False</td>\n",
       "      <td>443797076</td>\n",
       "      <td>0</td>\n",
       "      <td>0</td>\n",
       "      <td>0</td>\n",
       "      <td>1</td>\n",
       "      <td>0</td>\n",
       "      <td>0</td>\n",
       "      <td>0</td>\n",
       "      <td>-0.687986</td>\n",
       "      <td>-0.467653</td>\n",
       "      <td>0.706728</td>\n",
       "      <td>-0.785398</td>\n",
       "      <td>-1.110036</td>\n",
       "      <td>-0.291461</td>\n",
       "      <td>0.862108</td>\n",
       "      <td>-0.503276</td>\n",
       "      <td>-2.287251</td>\n",
       "    </tr>\n",
       "    <tr>\n",
       "      <th>101746</th>\n",
       "      <td>False</td>\n",
       "      <td>True</td>\n",
       "      <td>443797298</td>\n",
       "      <td>0</td>\n",
       "      <td>0</td>\n",
       "      <td>0</td>\n",
       "      <td>1</td>\n",
       "      <td>0</td>\n",
       "      <td>0</td>\n",
       "      <td>0</td>\n",
       "      <td>0.566659</td>\n",
       "      <td>-0.132655</td>\n",
       "      <td>-2.088802</td>\n",
       "      <td>-0.785398</td>\n",
       "      <td>-1.110036</td>\n",
       "      <td>0.497643</td>\n",
       "      <td>-0.212620</td>\n",
       "      <td>-0.503276</td>\n",
       "      <td>-1.252906</td>\n",
       "    </tr>\n",
       "    <tr>\n",
       "      <th>101747</th>\n",
       "      <td>True</td>\n",
       "      <td>False</td>\n",
       "      <td>443804570</td>\n",
       "      <td>0</td>\n",
       "      <td>0</td>\n",
       "      <td>0</td>\n",
       "      <td>1</td>\n",
       "      <td>0</td>\n",
       "      <td>0</td>\n",
       "      <td>0</td>\n",
       "      <td>0.566659</td>\n",
       "      <td>1.207337</td>\n",
       "      <td>0.401761</td>\n",
       "      <td>2.732016</td>\n",
       "      <td>0.366428</td>\n",
       "      <td>-0.291461</td>\n",
       "      <td>-0.212620</td>\n",
       "      <td>-0.503276</td>\n",
       "      <td>0.815784</td>\n",
       "    </tr>\n",
       "    <tr>\n",
       "      <th>101748</th>\n",
       "      <td>True</td>\n",
       "      <td>False</td>\n",
       "      <td>443811536</td>\n",
       "      <td>0</td>\n",
       "      <td>0</td>\n",
       "      <td>0</td>\n",
       "      <td>1</td>\n",
       "      <td>0</td>\n",
       "      <td>0</td>\n",
       "      <td>0</td>\n",
       "      <td>-1.315309</td>\n",
       "      <td>3.217324</td>\n",
       "      <td>1.316662</td>\n",
       "      <td>-0.785398</td>\n",
       "      <td>-0.002688</td>\n",
       "      <td>-0.291461</td>\n",
       "      <td>-0.212620</td>\n",
       "      <td>-0.503276</td>\n",
       "      <td>-1.252906</td>\n",
       "    </tr>\n",
       "    <tr>\n",
       "      <th>101749</th>\n",
       "      <td>True</td>\n",
       "      <td>False</td>\n",
       "      <td>443816024</td>\n",
       "      <td>0</td>\n",
       "      <td>0</td>\n",
       "      <td>0</td>\n",
       "      <td>1</td>\n",
       "      <td>0</td>\n",
       "      <td>0</td>\n",
       "      <td>0</td>\n",
       "      <td>0.566659</td>\n",
       "      <td>-0.467653</td>\n",
       "      <td>-0.818106</td>\n",
       "      <td>-0.199162</td>\n",
       "      <td>1.596815</td>\n",
       "      <td>-0.291461</td>\n",
       "      <td>0.862108</td>\n",
       "      <td>-0.503276</td>\n",
       "      <td>0.815784</td>\n",
       "    </tr>\n",
       "    <tr>\n",
       "      <th>101750</th>\n",
       "      <td>True</td>\n",
       "      <td>True</td>\n",
       "      <td>443824292</td>\n",
       "      <td>0</td>\n",
       "      <td>0</td>\n",
       "      <td>0</td>\n",
       "      <td>1</td>\n",
       "      <td>0</td>\n",
       "      <td>0</td>\n",
       "      <td>0</td>\n",
       "      <td>1.193982</td>\n",
       "      <td>-0.467653</td>\n",
       "      <td>-0.614795</td>\n",
       "      <td>0.387074</td>\n",
       "      <td>0.981622</td>\n",
       "      <td>-0.291461</td>\n",
       "      <td>-0.212620</td>\n",
       "      <td>-0.503276</td>\n",
       "      <td>0.815784</td>\n",
       "    </tr>\n",
       "    <tr>\n",
       "      <th>101751</th>\n",
       "      <td>False</td>\n",
       "      <td>False</td>\n",
       "      <td>443835140</td>\n",
       "      <td>0</td>\n",
       "      <td>0</td>\n",
       "      <td>0</td>\n",
       "      <td>1</td>\n",
       "      <td>0</td>\n",
       "      <td>0</td>\n",
       "      <td>0</td>\n",
       "      <td>0.566659</td>\n",
       "      <td>2.882327</td>\n",
       "      <td>1.723285</td>\n",
       "      <td>2.732016</td>\n",
       "      <td>6.026207</td>\n",
       "      <td>-0.291461</td>\n",
       "      <td>-0.212620</td>\n",
       "      <td>-0.503276</td>\n",
       "      <td>4.435992</td>\n",
       "    </tr>\n",
       "    <tr>\n",
       "      <th>101752</th>\n",
       "      <td>True</td>\n",
       "      <td>True</td>\n",
       "      <td>443835512</td>\n",
       "      <td>0</td>\n",
       "      <td>0</td>\n",
       "      <td>0</td>\n",
       "      <td>0</td>\n",
       "      <td>0</td>\n",
       "      <td>1</td>\n",
       "      <td>0</td>\n",
       "      <td>-1.315309</td>\n",
       "      <td>-0.467653</td>\n",
       "      <td>-1.529696</td>\n",
       "      <td>-0.199162</td>\n",
       "      <td>-1.356113</td>\n",
       "      <td>-0.291461</td>\n",
       "      <td>-0.212620</td>\n",
       "      <td>-0.503276</td>\n",
       "      <td>0.298612</td>\n",
       "    </tr>\n",
       "    <tr>\n",
       "      <th>101753</th>\n",
       "      <td>False</td>\n",
       "      <td>True</td>\n",
       "      <td>443841992</td>\n",
       "      <td>0</td>\n",
       "      <td>0</td>\n",
       "      <td>0</td>\n",
       "      <td>0</td>\n",
       "      <td>0</td>\n",
       "      <td>1</td>\n",
       "      <td>0</td>\n",
       "      <td>-1.315309</td>\n",
       "      <td>2.882327</td>\n",
       "      <td>0.401761</td>\n",
       "      <td>0.387074</td>\n",
       "      <td>-0.371804</td>\n",
       "      <td>-0.291461</td>\n",
       "      <td>-0.212620</td>\n",
       "      <td>-0.503276</td>\n",
       "      <td>0.815784</td>\n",
       "    </tr>\n",
       "    <tr>\n",
       "      <th>101754</th>\n",
       "      <td>True</td>\n",
       "      <td>False</td>\n",
       "      <td>443842016</td>\n",
       "      <td>0</td>\n",
       "      <td>0</td>\n",
       "      <td>0</td>\n",
       "      <td>1</td>\n",
       "      <td>0</td>\n",
       "      <td>0</td>\n",
       "      <td>0</td>\n",
       "      <td>0.566659</td>\n",
       "      <td>1.542335</td>\n",
       "      <td>0.350934</td>\n",
       "      <td>0.387074</td>\n",
       "      <td>2.088970</td>\n",
       "      <td>-0.291461</td>\n",
       "      <td>-0.212620</td>\n",
       "      <td>-0.503276</td>\n",
       "      <td>0.815784</td>\n",
       "    </tr>\n",
       "    <tr>\n",
       "      <th>101755</th>\n",
       "      <td>True</td>\n",
       "      <td>False</td>\n",
       "      <td>443842022</td>\n",
       "      <td>0</td>\n",
       "      <td>0</td>\n",
       "      <td>0</td>\n",
       "      <td>0</td>\n",
       "      <td>0</td>\n",
       "      <td>1</td>\n",
       "      <td>0</td>\n",
       "      <td>-1.315309</td>\n",
       "      <td>3.217324</td>\n",
       "      <td>1.519973</td>\n",
       "      <td>2.732016</td>\n",
       "      <td>1.227699</td>\n",
       "      <td>-0.291461</td>\n",
       "      <td>0.862108</td>\n",
       "      <td>-0.503276</td>\n",
       "      <td>0.815784</td>\n",
       "    </tr>\n",
       "    <tr>\n",
       "      <th>101756</th>\n",
       "      <td>True</td>\n",
       "      <td>True</td>\n",
       "      <td>443842070</td>\n",
       "      <td>0</td>\n",
       "      <td>0</td>\n",
       "      <td>0</td>\n",
       "      <td>0</td>\n",
       "      <td>0</td>\n",
       "      <td>1</td>\n",
       "      <td>0</td>\n",
       "      <td>-0.060664</td>\n",
       "      <td>-0.802651</td>\n",
       "      <td>0.147622</td>\n",
       "      <td>2.732016</td>\n",
       "      <td>0.120351</td>\n",
       "      <td>0.497643</td>\n",
       "      <td>0.862108</td>\n",
       "      <td>0.288579</td>\n",
       "      <td>0.815784</td>\n",
       "    </tr>\n",
       "    <tr>\n",
       "      <th>101757</th>\n",
       "      <td>True</td>\n",
       "      <td>True</td>\n",
       "      <td>443842136</td>\n",
       "      <td>0</td>\n",
       "      <td>0</td>\n",
       "      <td>0</td>\n",
       "      <td>1</td>\n",
       "      <td>0</td>\n",
       "      <td>0</td>\n",
       "      <td>0</td>\n",
       "      <td>0.566659</td>\n",
       "      <td>0.202343</td>\n",
       "      <td>-1.123073</td>\n",
       "      <td>-0.199162</td>\n",
       "      <td>-0.002688</td>\n",
       "      <td>-0.291461</td>\n",
       "      <td>-0.212620</td>\n",
       "      <td>0.288579</td>\n",
       "      <td>0.815784</td>\n",
       "    </tr>\n",
       "    <tr>\n",
       "      <th>101758</th>\n",
       "      <td>True</td>\n",
       "      <td>True</td>\n",
       "      <td>443842340</td>\n",
       "      <td>0</td>\n",
       "      <td>0</td>\n",
       "      <td>0</td>\n",
       "      <td>1</td>\n",
       "      <td>0</td>\n",
       "      <td>0</td>\n",
       "      <td>0</td>\n",
       "      <td>1.193982</td>\n",
       "      <td>0.202343</td>\n",
       "      <td>1.672457</td>\n",
       "      <td>-0.199162</td>\n",
       "      <td>0.735544</td>\n",
       "      <td>-0.291461</td>\n",
       "      <td>0.862108</td>\n",
       "      <td>-0.503276</td>\n",
       "      <td>0.815784</td>\n",
       "    </tr>\n",
       "    <tr>\n",
       "      <th>101759</th>\n",
       "      <td>False</td>\n",
       "      <td>True</td>\n",
       "      <td>443842778</td>\n",
       "      <td>0</td>\n",
       "      <td>0</td>\n",
       "      <td>0</td>\n",
       "      <td>1</td>\n",
       "      <td>0</td>\n",
       "      <td>0</td>\n",
       "      <td>0</td>\n",
       "      <td>1.193982</td>\n",
       "      <td>-1.137649</td>\n",
       "      <td>-2.139630</td>\n",
       "      <td>-0.785398</td>\n",
       "      <td>-0.125726</td>\n",
       "      <td>2.075853</td>\n",
       "      <td>-0.212620</td>\n",
       "      <td>-0.503276</td>\n",
       "      <td>-0.218561</td>\n",
       "    </tr>\n",
       "    <tr>\n",
       "      <th>101760</th>\n",
       "      <td>True</td>\n",
       "      <td>True</td>\n",
       "      <td>443847176</td>\n",
       "      <td>0</td>\n",
       "      <td>1</td>\n",
       "      <td>0</td>\n",
       "      <td>0</td>\n",
       "      <td>0</td>\n",
       "      <td>0</td>\n",
       "      <td>0</td>\n",
       "      <td>-0.060664</td>\n",
       "      <td>0.537341</td>\n",
       "      <td>0.096794</td>\n",
       "      <td>-0.199162</td>\n",
       "      <td>1.104660</td>\n",
       "      <td>2.075853</td>\n",
       "      <td>0.862108</td>\n",
       "      <td>1.080434</td>\n",
       "      <td>0.815784</td>\n",
       "    </tr>\n",
       "    <tr>\n",
       "      <th>101761</th>\n",
       "      <td>False</td>\n",
       "      <td>False</td>\n",
       "      <td>443847548</td>\n",
       "      <td>0</td>\n",
       "      <td>1</td>\n",
       "      <td>0</td>\n",
       "      <td>0</td>\n",
       "      <td>0</td>\n",
       "      <td>0</td>\n",
       "      <td>0</td>\n",
       "      <td>0.566659</td>\n",
       "      <td>-0.467653</td>\n",
       "      <td>0.401761</td>\n",
       "      <td>-0.785398</td>\n",
       "      <td>-0.002688</td>\n",
       "      <td>-0.291461</td>\n",
       "      <td>-0.212620</td>\n",
       "      <td>-0.503276</td>\n",
       "      <td>0.815784</td>\n",
       "    </tr>\n",
       "    <tr>\n",
       "      <th>101762</th>\n",
       "      <td>True</td>\n",
       "      <td>True</td>\n",
       "      <td>443847782</td>\n",
       "      <td>0</td>\n",
       "      <td>1</td>\n",
       "      <td>0</td>\n",
       "      <td>0</td>\n",
       "      <td>0</td>\n",
       "      <td>0</td>\n",
       "      <td>0</td>\n",
       "      <td>1.193982</td>\n",
       "      <td>0.202343</td>\n",
       "      <td>-0.513139</td>\n",
       "      <td>0.973309</td>\n",
       "      <td>0.243390</td>\n",
       "      <td>-0.291461</td>\n",
       "      <td>-0.212620</td>\n",
       "      <td>0.288579</td>\n",
       "      <td>0.815784</td>\n",
       "    </tr>\n",
       "    <tr>\n",
       "      <th>101763</th>\n",
       "      <td>False</td>\n",
       "      <td>True</td>\n",
       "      <td>443854148</td>\n",
       "      <td>0</td>\n",
       "      <td>0</td>\n",
       "      <td>0</td>\n",
       "      <td>1</td>\n",
       "      <td>0</td>\n",
       "      <td>0</td>\n",
       "      <td>0</td>\n",
       "      <td>0.566659</td>\n",
       "      <td>-1.137649</td>\n",
       "      <td>0.503417</td>\n",
       "      <td>-0.785398</td>\n",
       "      <td>-0.863958</td>\n",
       "      <td>0.497643</td>\n",
       "      <td>-0.212620</td>\n",
       "      <td>-0.503276</td>\n",
       "      <td>2.884475</td>\n",
       "    </tr>\n",
       "    <tr>\n",
       "      <th>101764</th>\n",
       "      <td>True</td>\n",
       "      <td>True</td>\n",
       "      <td>443857166</td>\n",
       "      <td>0</td>\n",
       "      <td>0</td>\n",
       "      <td>0</td>\n",
       "      <td>1</td>\n",
       "      <td>0</td>\n",
       "      <td>0</td>\n",
       "      <td>0</td>\n",
       "      <td>1.193982</td>\n",
       "      <td>1.877333</td>\n",
       "      <td>0.096794</td>\n",
       "      <td>0.387074</td>\n",
       "      <td>0.612506</td>\n",
       "      <td>-0.291461</td>\n",
       "      <td>-0.212620</td>\n",
       "      <td>0.288579</td>\n",
       "      <td>0.815784</td>\n",
       "    </tr>\n",
       "    <tr>\n",
       "      <th>101765</th>\n",
       "      <td>False</td>\n",
       "      <td>True</td>\n",
       "      <td>443867222</td>\n",
       "      <td>0</td>\n",
       "      <td>0</td>\n",
       "      <td>0</td>\n",
       "      <td>1</td>\n",
       "      <td>0</td>\n",
       "      <td>0</td>\n",
       "      <td>0</td>\n",
       "      <td>0.566659</td>\n",
       "      <td>0.537341</td>\n",
       "      <td>-1.529696</td>\n",
       "      <td>0.973309</td>\n",
       "      <td>-1.602190</td>\n",
       "      <td>-0.291461</td>\n",
       "      <td>-0.212620</td>\n",
       "      <td>-0.503276</td>\n",
       "      <td>0.815784</td>\n",
       "    </tr>\n",
       "  </tbody>\n",
       "</table>\n",
       "<p>101766 rows × 19 columns</p>\n",
       "</div>"
      ],
      "text/plain": [
       "        gender  bloodtested  encounter_id  race_?  race_AfricanAmerican  \\\n",
       "0         True         True       2278392       0                     0   \n",
       "1         True         True        149190       0                     0   \n",
       "2         True         True         64410       0                     1   \n",
       "3        False         True        500364       0                     0   \n",
       "4        False         True         16680       0                     0   \n",
       "5        False         True         35754       0                     0   \n",
       "6        False         True         55842       0                     0   \n",
       "7        False         True         63768       0                     0   \n",
       "8         True         True         12522       0                     0   \n",
       "9         True         True         15738       0                     0   \n",
       "10        True         True         28236       0                     1   \n",
       "11       False         True         36900       0                     1   \n",
       "12        True         True         40926       0                     0   \n",
       "13       False         True         42570       0                     0   \n",
       "14        True         True         62256       0                     1   \n",
       "15       False         True         73578       0                     1   \n",
       "16       False         True         77076       0                     1   \n",
       "17        True         True         84222       0                     0   \n",
       "18       False         True         89682       0                     1   \n",
       "19       False         True        148530       1                     0   \n",
       "20        True         True        150006       1                     0   \n",
       "21       False         True        150048       1                     0   \n",
       "22        True         True        182796       0                     1   \n",
       "23        True         True        183930       0                     0   \n",
       "24        True         True        216156       0                     1   \n",
       "25        True         True        221634       0                     0   \n",
       "26       False        False        236316       0                     0   \n",
       "27        True         True        248916       0                     0   \n",
       "28       False         True        250872       0                     0   \n",
       "29        True         True        252822       0                     0   \n",
       "...        ...          ...           ...     ...                   ...   \n",
       "101736    True         True     443739152       0                     0   \n",
       "101737    True         True     443775086       0                     0   \n",
       "101738   False         True     443775482       0                     0   \n",
       "101739   False         True     443775740       0                     1   \n",
       "101740   False         True     443778398       0                     0   \n",
       "101741   False         True     443787128       0                     1   \n",
       "101742   False        False     443787512       0                     0   \n",
       "101743   False         True     443793668       0                     0   \n",
       "101744    True         True     443793992       0                     0   \n",
       "101745   False        False     443797076       0                     0   \n",
       "101746   False         True     443797298       0                     0   \n",
       "101747    True        False     443804570       0                     0   \n",
       "101748    True        False     443811536       0                     0   \n",
       "101749    True        False     443816024       0                     0   \n",
       "101750    True         True     443824292       0                     0   \n",
       "101751   False        False     443835140       0                     0   \n",
       "101752    True         True     443835512       0                     0   \n",
       "101753   False         True     443841992       0                     0   \n",
       "101754    True        False     443842016       0                     0   \n",
       "101755    True        False     443842022       0                     0   \n",
       "101756    True         True     443842070       0                     0   \n",
       "101757    True         True     443842136       0                     0   \n",
       "101758    True         True     443842340       0                     0   \n",
       "101759   False         True     443842778       0                     0   \n",
       "101760    True         True     443847176       0                     1   \n",
       "101761   False        False     443847548       0                     1   \n",
       "101762    True         True     443847782       0                     1   \n",
       "101763   False         True     443854148       0                     0   \n",
       "101764    True         True     443857166       0                     0   \n",
       "101765   False         True     443867222       0                     0   \n",
       "\n",
       "        race_Asian  race_Caucasian  race_Hispanic  race_Other  race_nan  \\\n",
       "0                0               1              0           0         0   \n",
       "1                0               1              0           0         0   \n",
       "2                0               0              0           0         0   \n",
       "3                0               1              0           0         0   \n",
       "4                0               1              0           0         0   \n",
       "5                0               1              0           0         0   \n",
       "6                0               1              0           0         0   \n",
       "7                0               1              0           0         0   \n",
       "8                0               1              0           0         0   \n",
       "9                0               1              0           0         0   \n",
       "10               0               0              0           0         0   \n",
       "11               0               0              0           0         0   \n",
       "12               0               1              0           0         0   \n",
       "13               0               1              0           0         0   \n",
       "14               0               0              0           0         0   \n",
       "15               0               0              0           0         0   \n",
       "16               0               0              0           0         0   \n",
       "17               0               1              0           0         0   \n",
       "18               0               0              0           0         0   \n",
       "19               0               0              0           0         0   \n",
       "20               0               0              0           0         0   \n",
       "21               0               0              0           0         0   \n",
       "22               0               0              0           0         0   \n",
       "23               0               1              0           0         0   \n",
       "24               0               0              0           0         0   \n",
       "25               0               0              0           1         0   \n",
       "26               0               1              0           0         0   \n",
       "27               0               1              0           0         0   \n",
       "28               0               1              0           0         0   \n",
       "29               0               1              0           0         0   \n",
       "...            ...             ...            ...         ...       ...   \n",
       "101736           0               1              0           0         0   \n",
       "101737           0               1              0           0         0   \n",
       "101738           0               1              0           0         0   \n",
       "101739           0               0              0           0         0   \n",
       "101740           0               1              0           0         0   \n",
       "101741           0               0              0           0         0   \n",
       "101742           0               1              0           0         0   \n",
       "101743           0               1              0           0         0   \n",
       "101744           0               1              0           0         0   \n",
       "101745           0               1              0           0         0   \n",
       "101746           0               1              0           0         0   \n",
       "101747           0               1              0           0         0   \n",
       "101748           0               1              0           0         0   \n",
       "101749           0               1              0           0         0   \n",
       "101750           0               1              0           0         0   \n",
       "101751           0               1              0           0         0   \n",
       "101752           0               0              0           1         0   \n",
       "101753           0               0              0           1         0   \n",
       "101754           0               1              0           0         0   \n",
       "101755           0               0              0           1         0   \n",
       "101756           0               0              0           1         0   \n",
       "101757           0               1              0           0         0   \n",
       "101758           0               1              0           0         0   \n",
       "101759           0               1              0           0         0   \n",
       "101760           0               0              0           0         0   \n",
       "101761           0               0              0           0         0   \n",
       "101762           0               0              0           0         0   \n",
       "101763           0               1              0           0         0   \n",
       "101764           0               1              0           0         0   \n",
       "101765           0               1              0           0         0   \n",
       "\n",
       "        age_cleaned  time_in_hospital  num_lab_procedures  num_procedures  \\\n",
       "0         -3.824600         -1.137649           -0.106517       -0.785398   \n",
       "1         -3.197277         -0.467653            0.808384       -0.785398   \n",
       "2         -2.569954         -0.802651           -1.631351        2.145781   \n",
       "3         -1.942632         -0.802651            0.045967       -0.199162   \n",
       "4         -1.315309         -1.137649            0.401761       -0.785398   \n",
       "5         -0.687986         -0.467653           -0.614795        2.732016   \n",
       "6         -0.060664         -0.132655            1.367490       -0.199162   \n",
       "7          0.566659          0.202343            1.519973       -0.785398   \n",
       "8          1.193982          2.882327            1.265834        0.387074   \n",
       "9          1.821305          2.547329           -0.513139        0.973309   \n",
       "10        -1.315309          1.542335            0.198450        0.387074   \n",
       "11        -0.060664          0.872339            0.960867       -0.785398   \n",
       "12        -1.315309          0.872339            0.859212       -0.785398   \n",
       "13         1.193982          1.877333            0.605073       -0.199162   \n",
       "14        -0.060664         -1.137649            0.300106        2.145781   \n",
       "15        -0.060664          2.547329            1.621629        2.145781   \n",
       "16        -0.687986         -0.132655            0.096794        1.559545   \n",
       "17        -0.687986         -0.467653           -0.716451       -0.785398   \n",
       "18         0.566659          0.202343           -0.411484        2.145781   \n",
       "19         0.566659          0.537341           -0.055689        0.387074   \n",
       "20        -0.687986         -0.802651            1.164179       -0.199162   \n",
       "21        -0.060664         -0.802651           -0.360656        0.387074   \n",
       "22         0.566659         -0.802651            0.198450       -0.785398   \n",
       "23         1.193982          2.212331           -0.055689        0.387074   \n",
       "24         0.566659         -0.467653           -1.224729        1.559545   \n",
       "25        -0.687986         -1.137649           -0.513139       -0.785398   \n",
       "26         1.193982          0.537341            1.062523        0.973309   \n",
       "27        -0.687986         -0.802651           -0.919762        0.387074   \n",
       "28        -2.569954          1.877333            0.503417       -0.785398   \n",
       "29         1.193982          0.202343            0.452589       -0.785398   \n",
       "...             ...               ...                 ...             ...   \n",
       "101736    -0.060664          1.207337            0.554245       -0.199162   \n",
       "101737    -1.315309         -0.132655            0.350934        1.559545   \n",
       "101738     0.566659         -1.137649           -0.309828       -0.785398   \n",
       "101739     0.566659         -1.137649           -0.563967        2.732016   \n",
       "101740    -1.315309         -1.137649           -2.139630        2.145781   \n",
       "101741     1.821305         -0.132655           -1.123073       -0.199162   \n",
       "101742     0.566659         -0.132655           -0.004861       -0.785398   \n",
       "101743     1.193982         -0.467653            0.096794       -0.785398   \n",
       "101744     1.193982         -1.137649            0.300106       -0.785398   \n",
       "101745    -0.687986         -0.467653            0.706728       -0.785398   \n",
       "101746     0.566659         -0.132655           -2.088802       -0.785398   \n",
       "101747     0.566659          1.207337            0.401761        2.732016   \n",
       "101748    -1.315309          3.217324            1.316662       -0.785398   \n",
       "101749     0.566659         -0.467653           -0.818106       -0.199162   \n",
       "101750     1.193982         -0.467653           -0.614795        0.387074   \n",
       "101751     0.566659          2.882327            1.723285        2.732016   \n",
       "101752    -1.315309         -0.467653           -1.529696       -0.199162   \n",
       "101753    -1.315309          2.882327            0.401761        0.387074   \n",
       "101754     0.566659          1.542335            0.350934        0.387074   \n",
       "101755    -1.315309          3.217324            1.519973        2.732016   \n",
       "101756    -0.060664         -0.802651            0.147622        2.732016   \n",
       "101757     0.566659          0.202343           -1.123073       -0.199162   \n",
       "101758     1.193982          0.202343            1.672457       -0.199162   \n",
       "101759     1.193982         -1.137649           -2.139630       -0.785398   \n",
       "101760    -0.060664          0.537341            0.096794       -0.199162   \n",
       "101761     0.566659         -0.467653            0.401761       -0.785398   \n",
       "101762     1.193982          0.202343           -0.513139        0.973309   \n",
       "101763     0.566659         -1.137649            0.503417       -0.785398   \n",
       "101764     1.193982          1.877333            0.096794        0.387074   \n",
       "101765     0.566659          0.537341           -1.529696        0.973309   \n",
       "\n",
       "        num_medications  number_outpatient  number_emergency  \\\n",
       "0             -1.848268          -0.291461         -0.212620   \n",
       "1              0.243390          -0.291461         -0.212620   \n",
       "2             -0.371804           1.286748         -0.212620   \n",
       "3             -0.002688          -0.291461         -0.212620   \n",
       "4             -0.986997          -0.291461         -0.212620   \n",
       "5             -0.002688          -0.291461         -0.212620   \n",
       "6              0.612506          -0.291461         -0.212620   \n",
       "7             -0.494842          -0.291461         -0.212620   \n",
       "8              1.473776          -0.291461         -0.212620   \n",
       "9              0.243390          -0.291461         -0.212620   \n",
       "10             0.120351          -0.291461         -0.212620   \n",
       "11            -0.617881          -0.291461         -0.212620   \n",
       "12            -0.125726          -0.291461          0.862108   \n",
       "13             1.842892          -0.291461         -0.212620   \n",
       "14            -1.725229          -0.291461         -0.212620   \n",
       "15            -0.371804          -0.291461         -0.212620   \n",
       "16             0.120351          -0.291461         -0.212620   \n",
       "17            -0.617881          -0.291461         -0.212620   \n",
       "18             0.858583          -0.291461         -0.212620   \n",
       "19             0.858583          -0.291461         -0.212620   \n",
       "20             0.366428          -0.291461         -0.212620   \n",
       "21            -0.617881          -0.291461         -0.212620   \n",
       "22            -0.494842          -0.291461         -0.212620   \n",
       "23             0.366428          -0.291461         -0.212620   \n",
       "24             0.243390          -0.291461         -0.212620   \n",
       "25            -1.110036          -0.291461         -0.212620   \n",
       "26             0.243390          -0.291461         -0.212620   \n",
       "27            -0.617881          -0.291461         -0.212620   \n",
       "28             0.489467          -0.291461         -0.212620   \n",
       "29            -0.248765          -0.291461         -0.212620   \n",
       "...                 ...                ...               ...   \n",
       "101736         0.489467           0.497643         -0.212620   \n",
       "101737         1.104660          -0.291461         -0.212620   \n",
       "101738        -0.740920          -0.291461         -0.212620   \n",
       "101739        -0.248765           1.286748         -0.212620   \n",
       "101740        -0.986997          -0.291461         -0.212620   \n",
       "101741        -0.986997          -0.291461         -0.212620   \n",
       "101742        -0.740920          -0.291461         -0.212620   \n",
       "101743         1.227699           0.497643         -0.212620   \n",
       "101744        -0.494842          -0.291461         -0.212620   \n",
       "101745        -1.110036          -0.291461          0.862108   \n",
       "101746        -1.110036           0.497643         -0.212620   \n",
       "101747         0.366428          -0.291461         -0.212620   \n",
       "101748        -0.002688          -0.291461         -0.212620   \n",
       "101749         1.596815          -0.291461          0.862108   \n",
       "101750         0.981622          -0.291461         -0.212620   \n",
       "101751         6.026207          -0.291461         -0.212620   \n",
       "101752        -1.356113          -0.291461         -0.212620   \n",
       "101753        -0.371804          -0.291461         -0.212620   \n",
       "101754         2.088970          -0.291461         -0.212620   \n",
       "101755         1.227699          -0.291461          0.862108   \n",
       "101756         0.120351           0.497643          0.862108   \n",
       "101757        -0.002688          -0.291461         -0.212620   \n",
       "101758         0.735544          -0.291461          0.862108   \n",
       "101759        -0.125726           2.075853         -0.212620   \n",
       "101760         1.104660           2.075853          0.862108   \n",
       "101761        -0.002688          -0.291461         -0.212620   \n",
       "101762         0.243390          -0.291461         -0.212620   \n",
       "101763        -0.863958           0.497643         -0.212620   \n",
       "101764         0.612506          -0.291461         -0.212620   \n",
       "101765        -1.602190          -0.291461         -0.212620   \n",
       "\n",
       "        number_inpatient  number_diagnoses  \n",
       "0              -0.503276         -3.321596  \n",
       "1              -0.503276          0.815784  \n",
       "2               0.288579         -0.735733  \n",
       "3              -0.503276         -0.218561  \n",
       "4              -0.503276         -1.252906  \n",
       "5              -0.503276          0.815784  \n",
       "6              -0.503276         -0.218561  \n",
       "7              -0.503276          0.298612  \n",
       "8              -0.503276          0.298612  \n",
       "9              -0.503276          0.298612  \n",
       "10             -0.503276          0.815784  \n",
       "11             -0.503276         -0.218561  \n",
       "12             -0.503276          0.298612  \n",
       "13             -0.503276          0.298612  \n",
       "14             -0.503276          0.298612  \n",
       "15             -0.503276          0.815784  \n",
       "16             -0.503276          0.298612  \n",
       "17             -0.503276         -2.287251  \n",
       "18             -0.503276          0.815784  \n",
       "19             -0.503276          0.298612  \n",
       "20             -0.503276         -0.218561  \n",
       "21             -0.503276         -0.735733  \n",
       "22             -0.503276          0.298612  \n",
       "23             -0.503276          0.298612  \n",
       "24             -0.503276         -0.735733  \n",
       "25             -0.503276         -2.287251  \n",
       "26             -0.503276         -0.218561  \n",
       "27             -0.503276         -2.287251  \n",
       "28             -0.503276         -0.735733  \n",
       "29             -0.503276          0.298612  \n",
       "...                  ...               ...  \n",
       "101736          0.288579          0.815784  \n",
       "101737         -0.503276          0.815784  \n",
       "101738          1.080434         -0.218561  \n",
       "101739          1.080434          0.815784  \n",
       "101740         -0.503276         -1.770078  \n",
       "101741          0.288579          0.815784  \n",
       "101742         -0.503276          0.815784  \n",
       "101743          0.288579          0.815784  \n",
       "101744         -0.503276          0.815784  \n",
       "101745         -0.503276         -2.287251  \n",
       "101746         -0.503276         -1.252906  \n",
       "101747         -0.503276          0.815784  \n",
       "101748         -0.503276         -1.252906  \n",
       "101749         -0.503276          0.815784  \n",
       "101750         -0.503276          0.815784  \n",
       "101751         -0.503276          4.435992  \n",
       "101752         -0.503276          0.298612  \n",
       "101753         -0.503276          0.815784  \n",
       "101754         -0.503276          0.815784  \n",
       "101755         -0.503276          0.815784  \n",
       "101756          0.288579          0.815784  \n",
       "101757          0.288579          0.815784  \n",
       "101758         -0.503276          0.815784  \n",
       "101759         -0.503276         -0.218561  \n",
       "101760          1.080434          0.815784  \n",
       "101761         -0.503276          0.815784  \n",
       "101762          0.288579          0.815784  \n",
       "101763         -0.503276          2.884475  \n",
       "101764          0.288579          0.815784  \n",
       "101765         -0.503276          0.815784  \n",
       "\n",
       "[101766 rows x 19 columns]"
      ]
     },
     "execution_count": 21,
     "metadata": {},
     "output_type": "execute_result"
    }
   ],
   "source": [
    "based_line_X_std\n"
   ]
  },
  {
   "cell_type": "code",
   "execution_count": 22,
   "metadata": {
    "scrolled": true
   },
   "outputs": [],
   "source": [
    "base_line_target = data[data.encounter_id.isin(based_line_X_std.encounter_id)][['encounter_id','readmitted']]"
   ]
  },
  {
   "cell_type": "markdown",
   "metadata": {},
   "source": [
    "### baseline model"
   ]
  },
  {
   "cell_type": "code",
   "execution_count": 23,
   "metadata": {},
   "outputs": [],
   "source": [
    "from sklearn.linear_model import LogisticRegression\n"
   ]
  },
  {
   "cell_type": "code",
   "execution_count": 225,
   "metadata": {},
   "outputs": [],
   "source": [
    "base_line_target['Target'] = (base_line_target.readmitted == '<30').map(int)"
   ]
  },
  {
   "cell_type": "code",
   "execution_count": 226,
   "metadata": {
    "scrolled": true
   },
   "outputs": [
    {
     "data": {
      "text/plain": [
       "0         0\n",
       "1         0\n",
       "2         0\n",
       "3         0\n",
       "4         0\n",
       "5         0\n",
       "6         0\n",
       "7         0\n",
       "8         0\n",
       "9         0\n",
       "10        0\n",
       "11        1\n",
       "12        1\n",
       "13        0\n",
       "14        0\n",
       "15        0\n",
       "16        1\n",
       "17        0\n",
       "18        0\n",
       "19        0\n",
       "20        0\n",
       "21        0\n",
       "22        0\n",
       "23        0\n",
       "24        0\n",
       "25        0\n",
       "26        0\n",
       "27        0\n",
       "28        0\n",
       "29        0\n",
       "         ..\n",
       "101736    0\n",
       "101737    0\n",
       "101738    0\n",
       "101739    0\n",
       "101740    0\n",
       "101741    0\n",
       "101742    0\n",
       "101743    0\n",
       "101744    0\n",
       "101745    0\n",
       "101746    1\n",
       "101747    0\n",
       "101748    0\n",
       "101749    0\n",
       "101750    1\n",
       "101751    0\n",
       "101752    0\n",
       "101753    0\n",
       "101754    0\n",
       "101755    0\n",
       "101756    0\n",
       "101757    0\n",
       "101758    0\n",
       "101759    0\n",
       "101760    0\n",
       "101761    0\n",
       "101762    0\n",
       "101763    0\n",
       "101764    0\n",
       "101765    0\n",
       "Name: Target, Length: 101766, dtype: int64"
      ]
     },
     "execution_count": 226,
     "metadata": {},
     "output_type": "execute_result"
    }
   ],
   "source": [
    "base_line_target['Target']"
   ]
  },
  {
   "cell_type": "code",
   "execution_count": 192,
   "metadata": {},
   "outputs": [],
   "source": [
    "X_df = based_line_X_std[based_line_X_std.encounter_id.isin(base_line_target.encounter_id)].sort_values('encounter_id').set_index('encounter_id')\n",
    "X_values = X_df.values\n",
    "y_values = base_line_target['Target'].values"
   ]
  },
  {
   "cell_type": "code",
   "execution_count": 195,
   "metadata": {},
   "outputs": [
    {
     "data": {
      "text/plain": [
       "0    90409\n",
       "1    11357\n",
       "Name: Target, dtype: int64"
      ]
     },
     "execution_count": 195,
     "metadata": {},
     "output_type": "execute_result"
    }
   ],
   "source": [
    "base_line_target.sort_values('encounter_id').Target.value_counts()"
   ]
  },
  {
   "cell_type": "code",
   "execution_count": 196,
   "metadata": {},
   "outputs": [
    {
     "data": {
      "text/plain": [
       "array([[-0.01001387,  0.04594975,  0.        ,  0.        ,  0.        ,\n",
       "         0.        ,  0.        ,  0.        ,  0.        ,  0.06193536,\n",
       "         0.06670322,  0.00323219, -0.04693321,  0.05715551,  0.        ,\n",
       "         0.03217929,  0.33802053,  0.08030739]])"
      ]
     },
     "execution_count": 196,
     "metadata": {},
     "output_type": "execute_result"
    }
   ],
   "source": [
    "baseline = LogisticRegression(random_state=998,penalty='l1',C=0.03).fit(X_values, y_values)\n",
    "baseline.coef_"
   ]
  },
  {
   "cell_type": "code",
   "execution_count": 218,
   "metadata": {
    "scrolled": false
   },
   "outputs": [
    {
     "data": {
      "text/plain": [
       "<matplotlib.axes._subplots.AxesSubplot at 0x124803b70>"
      ]
     },
     "execution_count": 218,
     "metadata": {},
     "output_type": "execute_result"
    },
    {
     "data": {
      "image/png": "[encoded data removed]",
      "text/plain": [
       "<Figure size 432x288 with 1 Axes>"
      ]
     },
     "metadata": {
      "needs_background": "light"
     },
     "output_type": "display_data"
    }
   ],
   "source": [
    "baseline_model_feature_importance = pd.DataFrame({'coefficient': baseline.coef_[0],'feature_name':X_df.columns})\n",
    "baseline_model_feature_importance['abs_coef'] = baseline_model_feature_importance.coefficient.abs()\n",
    "baseline_model_feature_importance.sort_values('abs_coef',ascending=False)[['coefficient','feature_name']].set_index('feature_name').plot(kind='bar',title='feature importance')\n"
   ]
  },
  {
   "cell_type": "code",
   "execution_count": 150,
   "metadata": {},
   "outputs": [
    {
     "data": {
      "text/plain": [
       "array(['number_inpatient', 'number_diagnoses', 'time_in_hospital',\n",
       "       'age_cleaned', 'num_medications', 'num_procedures', 'bloodtested',\n",
       "       'number_emergency', 'gender', 'num_lab_procedures'], dtype=object)"
      ]
     },
     "execution_count": 150,
     "metadata": {},
     "output_type": "execute_result"
    }
   ],
   "source": [
    "base_line_vars = baseline_model_feature_importance.sort_values('abs_coef',ascending=False)[['coefficient','feature_name']].iloc[:10].feature_name.values\n",
    "base_line_vars"
   ]
  },
  {
   "cell_type": "code",
   "execution_count": 198,
   "metadata": {},
   "outputs": [
    {
     "data": {
      "text/plain": [
       "No        81778\n",
       "Steady    18346\n",
       "Up         1067\n",
       "Down        575\n",
       "Name: metformin, dtype: int64"
      ]
     },
     "execution_count": 198,
     "metadata": {},
     "output_type": "execute_result"
    }
   ],
   "source": [
    "data[drug_columns].metformin.value_counts()"
   ]
  },
  {
   "cell_type": "markdown",
   "metadata": {},
   "source": [
    "###  study of metaformin"
   ]
  },
  {
   "cell_type": "code",
   "execution_count": 199,
   "metadata": {},
   "outputs": [],
   "source": [
    "metaformin_dummies = pd.get_dummies(data['metformin'])"
   ]
  },
  {
   "cell_type": "code",
   "execution_count": 200,
   "metadata": {},
   "outputs": [],
   "source": [
    "metaformin_dummies['encounter_id'] = data.encounter_id\n",
    "metaformin_dummies.set_index('encounter_id',inplace = True)"
   ]
  },
  {
   "cell_type": "code",
   "execution_count": 232,
   "metadata": {
    "scrolled": true
   },
   "outputs": [
    {
     "data": {
      "text/html": [
       "<div>\n",
       "<style scoped>\n",
       "    .dataframe tbody tr th:only-of-type {\n",
       "        vertical-align: middle;\n",
       "    }\n",
       "\n",
       "    .dataframe tbody tr th {\n",
       "        vertical-align: top;\n",
       "    }\n",
       "\n",
       "    .dataframe thead th {\n",
       "        text-align: right;\n",
       "    }\n",
       "</style>\n",
       "<table border=\"1\" class=\"dataframe\">\n",
       "  <thead>\n",
       "    <tr style=\"text-align: right;\">\n",
       "      <th></th>\n",
       "      <th>Down</th>\n",
       "      <th>No</th>\n",
       "      <th>Steady</th>\n",
       "      <th>Up</th>\n",
       "    </tr>\n",
       "    <tr>\n",
       "      <th>encounter_id</th>\n",
       "      <th></th>\n",
       "      <th></th>\n",
       "      <th></th>\n",
       "      <th></th>\n",
       "    </tr>\n",
       "  </thead>\n",
       "  <tbody>\n",
       "    <tr>\n",
       "      <th>2278392</th>\n",
       "      <td>0</td>\n",
       "      <td>1</td>\n",
       "      <td>0</td>\n",
       "      <td>0</td>\n",
       "    </tr>\n",
       "    <tr>\n",
       "      <th>149190</th>\n",
       "      <td>0</td>\n",
       "      <td>1</td>\n",
       "      <td>0</td>\n",
       "      <td>0</td>\n",
       "    </tr>\n",
       "    <tr>\n",
       "      <th>64410</th>\n",
       "      <td>0</td>\n",
       "      <td>1</td>\n",
       "      <td>0</td>\n",
       "      <td>0</td>\n",
       "    </tr>\n",
       "    <tr>\n",
       "      <th>500364</th>\n",
       "      <td>0</td>\n",
       "      <td>1</td>\n",
       "      <td>0</td>\n",
       "      <td>0</td>\n",
       "    </tr>\n",
       "    <tr>\n",
       "      <th>16680</th>\n",
       "      <td>0</td>\n",
       "      <td>1</td>\n",
       "      <td>0</td>\n",
       "      <td>0</td>\n",
       "    </tr>\n",
       "    <tr>\n",
       "      <th>35754</th>\n",
       "      <td>0</td>\n",
       "      <td>1</td>\n",
       "      <td>0</td>\n",
       "      <td>0</td>\n",
       "    </tr>\n",
       "    <tr>\n",
       "      <th>55842</th>\n",
       "      <td>0</td>\n",
       "      <td>0</td>\n",
       "      <td>1</td>\n",
       "      <td>0</td>\n",
       "    </tr>\n",
       "    <tr>\n",
       "      <th>63768</th>\n",
       "      <td>0</td>\n",
       "      <td>1</td>\n",
       "      <td>0</td>\n",
       "      <td>0</td>\n",
       "    </tr>\n",
       "    <tr>\n",
       "      <th>12522</th>\n",
       "      <td>0</td>\n",
       "      <td>1</td>\n",
       "      <td>0</td>\n",
       "      <td>0</td>\n",
       "    </tr>\n",
       "    <tr>\n",
       "      <th>15738</th>\n",
       "      <td>0</td>\n",
       "      <td>1</td>\n",
       "      <td>0</td>\n",
       "      <td>0</td>\n",
       "    </tr>\n",
       "    <tr>\n",
       "      <th>28236</th>\n",
       "      <td>0</td>\n",
       "      <td>1</td>\n",
       "      <td>0</td>\n",
       "      <td>0</td>\n",
       "    </tr>\n",
       "    <tr>\n",
       "      <th>36900</th>\n",
       "      <td>0</td>\n",
       "      <td>1</td>\n",
       "      <td>0</td>\n",
       "      <td>0</td>\n",
       "    </tr>\n",
       "    <tr>\n",
       "      <th>40926</th>\n",
       "      <td>0</td>\n",
       "      <td>0</td>\n",
       "      <td>1</td>\n",
       "      <td>0</td>\n",
       "    </tr>\n",
       "    <tr>\n",
       "      <th>42570</th>\n",
       "      <td>0</td>\n",
       "      <td>1</td>\n",
       "      <td>0</td>\n",
       "      <td>0</td>\n",
       "    </tr>\n",
       "    <tr>\n",
       "      <th>62256</th>\n",
       "      <td>0</td>\n",
       "      <td>1</td>\n",
       "      <td>0</td>\n",
       "      <td>0</td>\n",
       "    </tr>\n",
       "    <tr>\n",
       "      <th>73578</th>\n",
       "      <td>0</td>\n",
       "      <td>1</td>\n",
       "      <td>0</td>\n",
       "      <td>0</td>\n",
       "    </tr>\n",
       "    <tr>\n",
       "      <th>77076</th>\n",
       "      <td>0</td>\n",
       "      <td>1</td>\n",
       "      <td>0</td>\n",
       "      <td>0</td>\n",
       "    </tr>\n",
       "    <tr>\n",
       "      <th>84222</th>\n",
       "      <td>0</td>\n",
       "      <td>1</td>\n",
       "      <td>0</td>\n",
       "      <td>0</td>\n",
       "    </tr>\n",
       "    <tr>\n",
       "      <th>89682</th>\n",
       "      <td>0</td>\n",
       "      <td>1</td>\n",
       "      <td>0</td>\n",
       "      <td>0</td>\n",
       "    </tr>\n",
       "    <tr>\n",
       "      <th>148530</th>\n",
       "      <td>0</td>\n",
       "      <td>1</td>\n",
       "      <td>0</td>\n",
       "      <td>0</td>\n",
       "    </tr>\n",
       "    <tr>\n",
       "      <th>150006</th>\n",
       "      <td>0</td>\n",
       "      <td>1</td>\n",
       "      <td>0</td>\n",
       "      <td>0</td>\n",
       "    </tr>\n",
       "    <tr>\n",
       "      <th>150048</th>\n",
       "      <td>0</td>\n",
       "      <td>0</td>\n",
       "      <td>1</td>\n",
       "      <td>0</td>\n",
       "    </tr>\n",
       "    <tr>\n",
       "      <th>182796</th>\n",
       "      <td>0</td>\n",
       "      <td>1</td>\n",
       "      <td>0</td>\n",
       "      <td>0</td>\n",
       "    </tr>\n",
       "    <tr>\n",
       "      <th>183930</th>\n",
       "      <td>0</td>\n",
       "      <td>1</td>\n",
       "      <td>0</td>\n",
       "      <td>0</td>\n",
       "    </tr>\n",
       "    <tr>\n",
       "      <th>216156</th>\n",
       "      <td>0</td>\n",
       "      <td>1</td>\n",
       "      <td>0</td>\n",
       "      <td>0</td>\n",
       "    </tr>\n",
       "    <tr>\n",
       "      <th>221634</th>\n",
       "      <td>0</td>\n",
       "      <td>0</td>\n",
       "      <td>1</td>\n",
       "      <td>0</td>\n",
       "    </tr>\n",
       "    <tr>\n",
       "      <th>236316</th>\n",
       "      <td>0</td>\n",
       "      <td>0</td>\n",
       "      <td>1</td>\n",
       "      <td>0</td>\n",
       "    </tr>\n",
       "    <tr>\n",
       "      <th>248916</th>\n",
       "      <td>0</td>\n",
       "      <td>1</td>\n",
       "      <td>0</td>\n",
       "      <td>0</td>\n",
       "    </tr>\n",
       "    <tr>\n",
       "      <th>250872</th>\n",
       "      <td>0</td>\n",
       "      <td>1</td>\n",
       "      <td>0</td>\n",
       "      <td>0</td>\n",
       "    </tr>\n",
       "    <tr>\n",
       "      <th>252822</th>\n",
       "      <td>0</td>\n",
       "      <td>0</td>\n",
       "      <td>1</td>\n",
       "      <td>0</td>\n",
       "    </tr>\n",
       "    <tr>\n",
       "      <th>...</th>\n",
       "      <td>...</td>\n",
       "      <td>...</td>\n",
       "      <td>...</td>\n",
       "      <td>...</td>\n",
       "    </tr>\n",
       "    <tr>\n",
       "      <th>443739152</th>\n",
       "      <td>0</td>\n",
       "      <td>1</td>\n",
       "      <td>0</td>\n",
       "      <td>0</td>\n",
       "    </tr>\n",
       "    <tr>\n",
       "      <th>443775086</th>\n",
       "      <td>0</td>\n",
       "      <td>0</td>\n",
       "      <td>1</td>\n",
       "      <td>0</td>\n",
       "    </tr>\n",
       "    <tr>\n",
       "      <th>443775482</th>\n",
       "      <td>0</td>\n",
       "      <td>0</td>\n",
       "      <td>1</td>\n",
       "      <td>0</td>\n",
       "    </tr>\n",
       "    <tr>\n",
       "      <th>443775740</th>\n",
       "      <td>0</td>\n",
       "      <td>1</td>\n",
       "      <td>0</td>\n",
       "      <td>0</td>\n",
       "    </tr>\n",
       "    <tr>\n",
       "      <th>443778398</th>\n",
       "      <td>0</td>\n",
       "      <td>1</td>\n",
       "      <td>0</td>\n",
       "      <td>0</td>\n",
       "    </tr>\n",
       "    <tr>\n",
       "      <th>443787128</th>\n",
       "      <td>0</td>\n",
       "      <td>1</td>\n",
       "      <td>0</td>\n",
       "      <td>0</td>\n",
       "    </tr>\n",
       "    <tr>\n",
       "      <th>443787512</th>\n",
       "      <td>0</td>\n",
       "      <td>1</td>\n",
       "      <td>0</td>\n",
       "      <td>0</td>\n",
       "    </tr>\n",
       "    <tr>\n",
       "      <th>443793668</th>\n",
       "      <td>0</td>\n",
       "      <td>1</td>\n",
       "      <td>0</td>\n",
       "      <td>0</td>\n",
       "    </tr>\n",
       "    <tr>\n",
       "      <th>443793992</th>\n",
       "      <td>0</td>\n",
       "      <td>1</td>\n",
       "      <td>0</td>\n",
       "      <td>0</td>\n",
       "    </tr>\n",
       "    <tr>\n",
       "      <th>443797076</th>\n",
       "      <td>0</td>\n",
       "      <td>0</td>\n",
       "      <td>1</td>\n",
       "      <td>0</td>\n",
       "    </tr>\n",
       "    <tr>\n",
       "      <th>443797298</th>\n",
       "      <td>0</td>\n",
       "      <td>1</td>\n",
       "      <td>0</td>\n",
       "      <td>0</td>\n",
       "    </tr>\n",
       "    <tr>\n",
       "      <th>443804570</th>\n",
       "      <td>0</td>\n",
       "      <td>1</td>\n",
       "      <td>0</td>\n",
       "      <td>0</td>\n",
       "    </tr>\n",
       "    <tr>\n",
       "      <th>443811536</th>\n",
       "      <td>0</td>\n",
       "      <td>0</td>\n",
       "      <td>0</td>\n",
       "      <td>1</td>\n",
       "    </tr>\n",
       "    <tr>\n",
       "      <th>443816024</th>\n",
       "      <td>0</td>\n",
       "      <td>0</td>\n",
       "      <td>1</td>\n",
       "      <td>0</td>\n",
       "    </tr>\n",
       "    <tr>\n",
       "      <th>443824292</th>\n",
       "      <td>0</td>\n",
       "      <td>1</td>\n",
       "      <td>0</td>\n",
       "      <td>0</td>\n",
       "    </tr>\n",
       "    <tr>\n",
       "      <th>443835140</th>\n",
       "      <td>0</td>\n",
       "      <td>1</td>\n",
       "      <td>0</td>\n",
       "      <td>0</td>\n",
       "    </tr>\n",
       "    <tr>\n",
       "      <th>443835512</th>\n",
       "      <td>0</td>\n",
       "      <td>0</td>\n",
       "      <td>1</td>\n",
       "      <td>0</td>\n",
       "    </tr>\n",
       "    <tr>\n",
       "      <th>443841992</th>\n",
       "      <td>0</td>\n",
       "      <td>0</td>\n",
       "      <td>1</td>\n",
       "      <td>0</td>\n",
       "    </tr>\n",
       "    <tr>\n",
       "      <th>443842016</th>\n",
       "      <td>0</td>\n",
       "      <td>1</td>\n",
       "      <td>0</td>\n",
       "      <td>0</td>\n",
       "    </tr>\n",
       "    <tr>\n",
       "      <th>443842022</th>\n",
       "      <td>0</td>\n",
       "      <td>1</td>\n",
       "      <td>0</td>\n",
       "      <td>0</td>\n",
       "    </tr>\n",
       "    <tr>\n",
       "      <th>443842070</th>\n",
       "      <td>0</td>\n",
       "      <td>1</td>\n",
       "      <td>0</td>\n",
       "      <td>0</td>\n",
       "    </tr>\n",
       "    <tr>\n",
       "      <th>443842136</th>\n",
       "      <td>0</td>\n",
       "      <td>1</td>\n",
       "      <td>0</td>\n",
       "      <td>0</td>\n",
       "    </tr>\n",
       "    <tr>\n",
       "      <th>443842340</th>\n",
       "      <td>0</td>\n",
       "      <td>1</td>\n",
       "      <td>0</td>\n",
       "      <td>0</td>\n",
       "    </tr>\n",
       "    <tr>\n",
       "      <th>443842778</th>\n",
       "      <td>0</td>\n",
       "      <td>1</td>\n",
       "      <td>0</td>\n",
       "      <td>0</td>\n",
       "    </tr>\n",
       "    <tr>\n",
       "      <th>443847176</th>\n",
       "      <td>0</td>\n",
       "      <td>1</td>\n",
       "      <td>0</td>\n",
       "      <td>0</td>\n",
       "    </tr>\n",
       "    <tr>\n",
       "      <th>443847548</th>\n",
       "      <td>0</td>\n",
       "      <td>0</td>\n",
       "      <td>1</td>\n",
       "      <td>0</td>\n",
       "    </tr>\n",
       "    <tr>\n",
       "      <th>443847782</th>\n",
       "      <td>0</td>\n",
       "      <td>1</td>\n",
       "      <td>0</td>\n",
       "      <td>0</td>\n",
       "    </tr>\n",
       "    <tr>\n",
       "      <th>443854148</th>\n",
       "      <td>0</td>\n",
       "      <td>0</td>\n",
       "      <td>1</td>\n",
       "      <td>0</td>\n",
       "    </tr>\n",
       "    <tr>\n",
       "      <th>443857166</th>\n",
       "      <td>0</td>\n",
       "      <td>1</td>\n",
       "      <td>0</td>\n",
       "      <td>0</td>\n",
       "    </tr>\n",
       "    <tr>\n",
       "      <th>443867222</th>\n",
       "      <td>0</td>\n",
       "      <td>1</td>\n",
       "      <td>0</td>\n",
       "      <td>0</td>\n",
       "    </tr>\n",
       "  </tbody>\n",
       "</table>\n",
       "<p>101766 rows × 4 columns</p>\n",
       "</div>"
      ],
      "text/plain": [
       "              Down  No  Steady  Up\n",
       "encounter_id                      \n",
       "2278392          0   1       0   0\n",
       "149190           0   1       0   0\n",
       "64410            0   1       0   0\n",
       "500364           0   1       0   0\n",
       "16680            0   1       0   0\n",
       "35754            0   1       0   0\n",
       "55842            0   0       1   0\n",
       "63768            0   1       0   0\n",
       "12522            0   1       0   0\n",
       "15738            0   1       0   0\n",
       "28236            0   1       0   0\n",
       "36900            0   1       0   0\n",
       "40926            0   0       1   0\n",
       "42570            0   1       0   0\n",
       "62256            0   1       0   0\n",
       "73578            0   1       0   0\n",
       "77076            0   1       0   0\n",
       "84222            0   1       0   0\n",
       "89682            0   1       0   0\n",
       "148530           0   1       0   0\n",
       "150006           0   1       0   0\n",
       "150048           0   0       1   0\n",
       "182796           0   1       0   0\n",
       "183930           0   1       0   0\n",
       "216156           0   1       0   0\n",
       "221634           0   0       1   0\n",
       "236316           0   0       1   0\n",
       "248916           0   1       0   0\n",
       "250872           0   1       0   0\n",
       "252822           0   0       1   0\n",
       "...            ...  ..     ...  ..\n",
       "443739152        0   1       0   0\n",
       "443775086        0   0       1   0\n",
       "443775482        0   0       1   0\n",
       "443775740        0   1       0   0\n",
       "443778398        0   1       0   0\n",
       "443787128        0   1       0   0\n",
       "443787512        0   1       0   0\n",
       "443793668        0   1       0   0\n",
       "443793992        0   1       0   0\n",
       "443797076        0   0       1   0\n",
       "443797298        0   1       0   0\n",
       "443804570        0   1       0   0\n",
       "443811536        0   0       0   1\n",
       "443816024        0   0       1   0\n",
       "443824292        0   1       0   0\n",
       "443835140        0   1       0   0\n",
       "443835512        0   0       1   0\n",
       "443841992        0   0       1   0\n",
       "443842016        0   1       0   0\n",
       "443842022        0   1       0   0\n",
       "443842070        0   1       0   0\n",
       "443842136        0   1       0   0\n",
       "443842340        0   1       0   0\n",
       "443842778        0   1       0   0\n",
       "443847176        0   1       0   0\n",
       "443847548        0   0       1   0\n",
       "443847782        0   1       0   0\n",
       "443854148        0   0       1   0\n",
       "443857166        0   1       0   0\n",
       "443867222        0   1       0   0\n",
       "\n",
       "[101766 rows x 4 columns]"
      ]
     },
     "execution_count": 232,
     "metadata": {},
     "output_type": "execute_result"
    }
   ],
   "source": [
    "metaformin_dummies"
   ]
  },
  {
   "cell_type": "code",
   "execution_count": 201,
   "metadata": {},
   "outputs": [
    {
     "data": {
      "text/plain": [
       "((101766, 18), (101766, 4))"
      ]
     },
     "execution_count": 201,
     "metadata": {},
     "output_type": "execute_result"
    }
   ],
   "source": [
    "X_df.shape,metaformin_dummies.shape"
   ]
  },
  {
   "cell_type": "code",
   "execution_count": 202,
   "metadata": {},
   "outputs": [
    {
     "data": {
      "text/plain": [
       "(101766, 14)"
      ]
     },
     "execution_count": 202,
     "metadata": {},
     "output_type": "execute_result"
    }
   ],
   "source": [
    "\n",
    "X_metaformin = X_df[base_line_vars].merge(metaformin_dummies,left_index = True,right_index = True,how = 'left')\n",
    "X_metaformin.shape"
   ]
  },
  {
   "cell_type": "code",
   "execution_count": 203,
   "metadata": {},
   "outputs": [
    {
     "data": {
      "text/plain": [
       "Index(['number_inpatient', 'number_diagnoses', 'time_in_hospital',\n",
       "       'age_cleaned', 'num_medications', 'num_procedures', 'bloodtested',\n",
       "       'number_emergency', 'gender', 'num_lab_procedures', 'Down', 'No',\n",
       "       'Steady', 'Up'],\n",
       "      dtype='object')"
      ]
     },
     "execution_count": 203,
     "metadata": {},
     "output_type": "execute_result"
    }
   ],
   "source": [
    "X_metaformin.columns"
   ]
  },
  {
   "cell_type": "code",
   "execution_count": 204,
   "metadata": {},
   "outputs": [],
   "source": [
    "metaformin_lr = LogisticRegression(random_state=998).fit(X_metaformin, y_values)"
   ]
  },
  {
   "cell_type": "code",
   "execution_count": 205,
   "metadata": {
    "scrolled": true
   },
   "outputs": [
    {
     "data": {
      "text/plain": [
       "<matplotlib.axes._subplots.AxesSubplot at 0x123a92320>"
      ]
     },
     "execution_count": 205,
     "metadata": {},
     "output_type": "execute_result"
    },
    {
     "data": {
      "image/png": "[encoded data removed]",
      "text/plain": [
       "<Figure size 432x288 with 1 Axes>"
      ]
     },
     "metadata": {
      "needs_background": "light"
     },
     "output_type": "display_data"
    }
   ],
   "source": [
    "metaformin_lr_feature_importance = pd.DataFrame({'coefficient': metaformin_lr.coef_[0],'feature_name':X_metaformin.columns})\n",
    "\n",
    "metaformin_lr_feature_importance['abs_coef'] = metaformin_lr_feature_importance.coefficient.abs()\n",
    "\n",
    "metaformin_lr_feature_importance.sort_values('abs_coef',ascending=False)[['coefficient','feature_name']].set_index('feature_name').plot(kind='bar')"
   ]
  },
  {
   "cell_type": "code",
   "execution_count": 206,
   "metadata": {},
   "outputs": [
    {
     "data": {
      "text/plain": [
       "<matplotlib.axes._subplots.AxesSubplot at 0x1a38f8ae10>"
      ]
     },
     "execution_count": 206,
     "metadata": {},
     "output_type": "execute_result"
    },
    {
     "data": {
      "image/png": "[encoded data removed]",
      "text/plain": [
       "<Figure size 432x288 with 1 Axes>"
      ]
     },
     "metadata": {
      "needs_background": "light"
     },
     "output_type": "display_data"
    }
   ],
   "source": [
    "table1 = metaformin_lr_feature_importance.sort_values('abs_coef',ascending=False)[['coefficient','feature_name']].set_index('feature_name').loc[['Up','Steady','No','Down'],:]\n",
    "table1['coef_balanced'] = table1.coefficient - table1.coefficient.mean()\n",
    "table1.coef_balanced.plot(kind='bar')"
   ]
  },
  {
   "cell_type": "code",
   "execution_count": 207,
   "metadata": {},
   "outputs": [],
   "source": [
    "import numpy as np\n",
    "def logit2prob (logit):\n",
    "    odds = np.exp(logit)\n",
    "    prob = odds / (1 + odds)\n",
    "    return(prob)"
   ]
  },
  {
   "cell_type": "markdown",
   "metadata": {},
   "source": [
    "#### understanding the actual meaning of probability\n",
    "#### how to get probability from doefficient"
   ]
  },
  {
   "cell_type": "code",
   "execution_count": 208,
   "metadata": {},
   "outputs": [],
   "source": [
    "p1 =0.5"
   ]
  },
  {
   "cell_type": "code",
   "execution_count": 209,
   "metadata": {},
   "outputs": [
    {
     "data": {
      "text/plain": [
       "-0.12427651412413687"
      ]
     },
     "execution_count": 209,
     "metadata": {},
     "output_type": "execute_result"
    }
   ],
   "source": [
    "patient_up = 1*logit2prob(-0.3)+0*logit2prob(-0.15)+0*logit2prob(0.10)+0*logit2prob(0.20)+ p1\n",
    "patient_down = 0*logit2prob(-0.3)+0*logit2prob(-0.15)+0*logit2prob(0.10)+1*logit2prob(0.20)+ p1\n",
    "patient_up-patient_down"
   ]
  },
  {
   "cell_type": "code",
   "execution_count": 227,
   "metadata": {},
   "outputs": [],
   "source": [
    "def get_drug_analytics(drug_name):\n",
    "    print ('__________________________________'+len(i)*'_')\n",
    "    print ('_________________',drug_name,'_______________')\n",
    "    print ('__________________________________'+len(i)*'_')\n",
    "    \n",
    "    # test case 1, study the four ways to using a frug\n",
    "    drug_dummies = pd.get_dummies(data[drug_name])\n",
    "    dummies_col = list(drug_dummies.columns)\n",
    "    drug_dummies['encounter_id'] = data.encounter_id\n",
    "    drug_dummies.set_index('encounter_id',inplace = True)\n",
    "    drug_data = X_df[base_line_vars].merge(drug_dummies,left_index = True,right_index = True,how = 'left')\n",
    "    y_values = base_line_target['Target'].values\n",
    "    drug_lr = LogisticRegression(random_state=998).fit(drug_data.values, y_values)\n",
    "    drug_lr_feature_importance = pd.DataFrame({'coefficient': drug_lr.coef_[0],'feature_name':list(base_line_vars)+ dummies_col})\n",
    "    drug_lr_feature_importance['abs_coef'] = drug_lr_feature_importance.coefficient.abs()\n",
    "    table1 = drug_lr_feature_importance.sort_values('abs_coef',ascending=False)[['coefficient','feature_name']].set_index('feature_name').loc[['Up','Steady','No','Down'],:]\n",
    "    table1['coef_balanced'] = table1.coefficient - table1.coefficient.mean()\n",
    "    table1.coef_balanced.plot(kind='bar',title = 'detail test')\n",
    "    plt.show()\n",
    "    # simplify the study. only take two senerios, Increase/steady or decrease/No\n",
    "    drug_dummies2 = pd.get_dummies(data[drug_name].map({'Up':'+','Steady':'+','No':'-','Down':'-'}))\n",
    "    drug_dummies2['encounter_id'] = data.encounter_id\n",
    "    drug_dummies2.set_index('encounter_id',inplace = True)\n",
    "    drug_data2 = X_df[base_line_vars].merge(drug_dummies2,left_index = True,right_index = True,how = 'left')\n",
    "    drug_lr2 = LogisticRegression(random_state=998).fit(drug_data2.values, y_values)\n",
    "    drug_lr2_feature_importance = pd.DataFrame({'coefficient': drug_lr2.coef_[0],'feature_name':list(base_line_vars)+['+', '-']})\n",
    "    drug_lr2_feature_importance['abs_coef'] = drug_lr2_feature_importance.coefficient.abs()\n",
    "    table2 = drug_lr2_feature_importance.sort_values('abs_coef',ascending=False)[['coefficient','feature_name']].set_index('feature_name').loc[['-','+'],:]\n",
    "    table2.coefficient.plot(kind='bar',title = 'simple test')\n",
    "    plt.show()\n",
    "    return (logit2prob(table2.loc['-','coefficient'])-logit2prob(table2.loc['+','coefficient']))"
   ]
  },
  {
   "cell_type": "code",
   "execution_count": 228,
   "metadata": {
    "scrolled": false
   },
   "outputs": [
    {
     "name": "stdout",
     "output_type": "stream",
     "text": [
      "________________________________________________________\n",
      "_________________ rosiglitazone _______________\n",
      "________________________________________________________\n"
     ]
    },
    {
     "data": {
      "image/png": "[encoded data removed]",
      "text/plain": [
       "<Figure size 432x288 with 1 Axes>"
      ]
     },
     "metadata": {
      "needs_background": "light"
     },
     "output_type": "display_data"
    },
    {
     "data": {
      "image/png": "[encoded data removed]",
      "text/plain": [
       "<Figure size 432x288 with 1 Axes>"
      ]
     },
     "metadata": {
      "needs_background": "light"
     },
     "output_type": "display_data"
    },
    {
     "data": {
      "text/plain": [
       "0.008151721381196186"
      ]
     },
     "execution_count": 228,
     "metadata": {},
     "output_type": "execute_result"
    }
   ],
   "source": [
    "get_drug_analytics('rosiglitazone')\n"
   ]
  },
  {
   "cell_type": "code",
   "execution_count": 212,
   "metadata": {},
   "outputs": [],
   "source": [
    "drug_columns = data.columns[14:-2]\n",
    "import warnings\n",
    "warnings.simplefilter(action='ignore', category=FutureWarning)"
   ]
  },
  {
   "cell_type": "code",
   "execution_count": 229,
   "metadata": {
    "scrolled": true
   },
   "outputs": [
    {
     "name": "stdout",
     "output_type": "stream",
     "text": [
      "___________________________________________\n",
      "_________________ metformin _______________\n",
      "___________________________________________\n"
     ]
    },
    {
     "data": {
      "image/png": "[encoded data removed]",
      "text/plain": [
       "<Figure size 432x288 with 1 Axes>"
      ]
     },
     "metadata": {
      "needs_background": "light"
     },
     "output_type": "display_data"
    },
    {
     "data": {
      "image/png": "[encoded data removed]",
      "text/plain": [
       "<Figure size 432x288 with 1 Axes>"
      ]
     },
     "metadata": {
      "needs_background": "light"
     },
     "output_type": "display_data"
    },
    {
     "name": "stdout",
     "output_type": "stream",
     "text": [
      "0.023851\n",
      "_____________________________________________\n",
      "_________________ repaglinide _______________\n",
      "_____________________________________________\n"
     ]
    },
    {
     "data": {
      "image/png": "[encoded data removed]",
      "text/plain": [
       "<Figure size 432x288 with 1 Axes>"
      ]
     },
     "metadata": {
      "needs_background": "light"
     },
     "output_type": "display_data"
    },
    {
     "data": {
      "image/png": "[encoded data removed]",
      "text/plain": [
       "<Figure size 432x288 with 1 Axes>"
      ]
     },
     "metadata": {
      "needs_background": "light"
     },
     "output_type": "display_data"
    },
    {
     "name": "stdout",
     "output_type": "stream",
     "text": [
      "-0.025074\n",
      "_____________________________________________\n",
      "_________________ nateglinide _______________\n",
      "_____________________________________________\n"
     ]
    },
    {
     "data": {
      "image/png": "[encoded data removed]",
      "text/plain": [
       "<Figure size 432x288 with 1 Axes>"
      ]
     },
     "metadata": {
      "needs_background": "light"
     },
     "output_type": "display_data"
    },
    {
     "data": {
      "image/png": "[encoded data removed]",
      "text/plain": [
       "<Figure size 432x288 with 1 Axes>"
      ]
     },
     "metadata": {
      "needs_background": "light"
     },
     "output_type": "display_data"
    },
    {
     "name": "stdout",
     "output_type": "stream",
     "text": [
      "-0.008465\n",
      "________________________________________________\n",
      "_________________ chlorpropamide _______________\n",
      "________________________________________________\n"
     ]
    },
    {
     "data": {
      "image/png": "[encoded data removed]",
      "text/plain": [
       "<Figure size 432x288 with 1 Axes>"
      ]
     },
     "metadata": {
      "needs_background": "light"
     },
     "output_type": "display_data"
    },
    {
     "data": {
      "image/png": "[encoded data removed]",
      "text/plain": [
       "<Figure size 432x288 with 1 Axes>"
      ]
     },
     "metadata": {
      "needs_background": "light"
     },
     "output_type": "display_data"
    },
    {
     "name": "stdout",
     "output_type": "stream",
     "text": [
      "0.078893\n",
      "_____________________________________________\n",
      "_________________ glimepiride _______________\n",
      "_____________________________________________\n"
     ]
    },
    {
     "data": {
      "image/png": "[encoded data removed]",
      "text/plain": [
       "<Figure size 432x288 with 1 Axes>"
      ]
     },
     "metadata": {
      "needs_background": "light"
     },
     "output_type": "display_data"
    },
    {
     "data": {
      "image/png": "[encoded data removed]",
      "text/plain": [
       "<Figure size 432x288 with 1 Axes>"
      ]
     },
     "metadata": {
      "needs_background": "light"
     },
     "output_type": "display_data"
    },
    {
     "name": "stdout",
     "output_type": "stream",
     "text": [
      "0.02555\n",
      "___________________________________________\n",
      "_________________ glipizide _______________\n",
      "___________________________________________\n"
     ]
    },
    {
     "data": {
      "image/png": "[encoded data removed]",
      "text/plain": [
       "<Figure size 432x288 with 1 Axes>"
      ]
     },
     "metadata": {
      "needs_background": "light"
     },
     "output_type": "display_data"
    },
    {
     "data": {
      "image/png": "[encoded data removed]",
      "text/plain": [
       "<Figure size 432x288 with 1 Axes>"
      ]
     },
     "metadata": {
      "needs_background": "light"
     },
     "output_type": "display_data"
    },
    {
     "name": "stdout",
     "output_type": "stream",
     "text": [
      "-0.008086\n",
      "___________________________________________\n",
      "_________________ glyburide _______________\n",
      "___________________________________________\n"
     ]
    },
    {
     "data": {
      "image/png": "[encoded data removed]",
      "text/plain": [
       "<Figure size 432x288 with 1 Axes>"
      ]
     },
     "metadata": {
      "needs_background": "light"
     },
     "output_type": "display_data"
    },
    {
     "data": {
      "image/png": "[encoded data removed]",
      "text/plain": [
       "<Figure size 432x288 with 1 Axes>"
      ]
     },
     "metadata": {
      "needs_background": "light"
     },
     "output_type": "display_data"
    },
    {
     "name": "stdout",
     "output_type": "stream",
     "text": [
      "0.000654\n",
      "_____________________________________________\n",
      "_________________ tolbutamide _______________\n",
      "_____________________________________________\n"
     ]
    },
    {
     "data": {
      "image/png": "[encoded data removed]",
      "text/plain": [
       "<Figure size 432x288 with 1 Axes>"
      ]
     },
     "metadata": {
      "needs_background": "light"
     },
     "output_type": "display_data"
    },
    {
     "data": {
      "image/png": "[encoded data removed]",
      "text/plain": [
       "<Figure size 432x288 with 1 Axes>"
      ]
     },
     "metadata": {
      "needs_background": "light"
     },
     "output_type": "display_data"
    },
    {
     "name": "stdout",
     "output_type": "stream",
     "text": [
      "0.050643\n",
      "______________________________________________\n",
      "_________________ pioglitazone _______________\n",
      "______________________________________________\n"
     ]
    },
    {
     "data": {
      "image/png": "[encoded data removed]",
      "text/plain": [
       "<Figure size 432x288 with 1 Axes>"
      ]
     },
     "metadata": {
      "needs_background": "light"
     },
     "output_type": "display_data"
    },
    {
     "data": {
      "image/png": "[encoded data removed]",
      "text/plain": [
       "<Figure size 432x288 with 1 Axes>"
      ]
     },
     "metadata": {
      "needs_background": "light"
     },
     "output_type": "display_data"
    },
    {
     "name": "stdout",
     "output_type": "stream",
     "text": [
      "0.009084\n",
      "_______________________________________________\n",
      "_________________ rosiglitazone _______________\n",
      "_______________________________________________\n"
     ]
    },
    {
     "data": {
      "image/png": "[encoded data removed]",
      "text/plain": [
       "<Figure size 432x288 with 1 Axes>"
      ]
     },
     "metadata": {
      "needs_background": "light"
     },
     "output_type": "display_data"
    },
    {
     "data": {
      "image/png": "[encoded data removed]",
      "text/plain": [
       "<Figure size 432x288 with 1 Axes>"
      ]
     },
     "metadata": {
      "needs_background": "light"
     },
     "output_type": "display_data"
    },
    {
     "name": "stdout",
     "output_type": "stream",
     "text": [
      "0.008152\n",
      "__________________________________________\n",
      "_________________ acarbose _______________\n",
      "__________________________________________\n"
     ]
    },
    {
     "data": {
      "image/png": "[encoded data removed]",
      "text/plain": [
       "<Figure size 432x288 with 1 Axes>"
      ]
     },
     "metadata": {
      "needs_background": "light"
     },
     "output_type": "display_data"
    },
    {
     "data": {
      "image/png": "[encoded data removed]",
      "text/plain": [
       "<Figure size 432x288 with 1 Axes>"
      ]
     },
     "metadata": {
      "needs_background": "light"
     },
     "output_type": "display_data"
    },
    {
     "name": "stdout",
     "output_type": "stream",
     "text": [
      "0.059869\n",
      "__________________________________________\n",
      "_________________ miglitol _______________\n",
      "__________________________________________\n"
     ]
    },
    {
     "data": {
      "image/png": "[encoded data removed]",
      "text/plain": [
       "<Figure size 432x288 with 1 Axes>"
      ]
     },
     "metadata": {
      "needs_background": "light"
     },
     "output_type": "display_data"
    },
    {
     "data": {
      "image/png": "[encoded data removed]",
      "text/plain": [
       "<Figure size 432x288 with 1 Axes>"
      ]
     },
     "metadata": {
      "needs_background": "light"
     },
     "output_type": "display_data"
    },
    {
     "name": "stdout",
     "output_type": "stream",
     "text": [
      "0.040506\n",
      "____________________________________________\n",
      "_________________ tolazamide _______________\n",
      "____________________________________________\n"
     ]
    },
    {
     "data": {
      "image/png": "[encoded data removed]",
      "text/plain": [
       "<Figure size 432x288 with 1 Axes>"
      ]
     },
     "metadata": {
      "needs_background": "light"
     },
     "output_type": "display_data"
    },
    {
     "data": {
      "image/png": "[encoded data removed]",
      "text/plain": [
       "<Figure size 432x288 with 1 Axes>"
      ]
     },
     "metadata": {
      "needs_background": "light"
     },
     "output_type": "display_data"
    },
    {
     "name": "stdout",
     "output_type": "stream",
     "text": [
      "-0.007967\n",
      "_________________________________________\n",
      "_________________ insulin _______________\n",
      "_________________________________________\n"
     ]
    },
    {
     "data": {
      "image/png": "[encoded data removed]",
      "text/plain": [
       "<Figure size 432x288 with 1 Axes>"
      ]
     },
     "metadata": {
      "needs_background": "light"
     },
     "output_type": "display_data"
    },
    {
     "data": {
      "image/png": "[encoded data removed]",
      "text/plain": [
       "<Figure size 432x288 with 1 Axes>"
      ]
     },
     "metadata": {
      "needs_background": "light"
     },
     "output_type": "display_data"
    },
    {
     "name": "stdout",
     "output_type": "stream",
     "text": [
      "-0.008184\n",
      "_____________________________________________________\n",
      "_________________ glyburide-metformin _______________\n",
      "_____________________________________________________\n"
     ]
    },
    {
     "data": {
      "image/png": "[encoded data removed]",
      "text/plain": [
       "<Figure size 432x288 with 1 Axes>"
      ]
     },
     "metadata": {
      "needs_background": "light"
     },
     "output_type": "display_data"
    },
    {
     "data": {
      "image/png": "[encoded data removed]",
      "text/plain": [
       "<Figure size 432x288 with 1 Axes>"
      ]
     },
     "metadata": {
      "needs_background": "light"
     },
     "output_type": "display_data"
    },
    {
     "name": "stdout",
     "output_type": "stream",
     "text": [
      "-0.015204\n",
      "_____________________________________________________\n",
      "_________________ glipizide-metformin _______________\n",
      "_____________________________________________________\n"
     ]
    },
    {
     "data": {
      "image/png": "[encoded data removed]",
      "text/plain": [
       "<Figure size 432x288 with 1 Axes>"
      ]
     },
     "metadata": {
      "needs_background": "light"
     },
     "output_type": "display_data"
    },
    {
     "data": {
      "image/png": "[encoded data removed]",
      "text/plain": [
       "<Figure size 432x288 with 1 Axes>"
      ]
     },
     "metadata": {
      "needs_background": "light"
     },
     "output_type": "display_data"
    },
    {
     "name": "stdout",
     "output_type": "stream",
     "text": [
      "-0.074234\n",
      "__________________________________________________________\n",
      "_________________ glimepiride-pioglitazone _______________\n",
      "__________________________________________________________\n"
     ]
    },
    {
     "data": {
      "image/png": "[encoded data removed]",
      "text/plain": [
       "<Figure size 432x288 with 1 Axes>"
      ]
     },
     "metadata": {
      "needs_background": "light"
     },
     "output_type": "display_data"
    },
    {
     "data": {
      "image/png": "[encoded data removed]",
      "text/plain": [
       "<Figure size 432x288 with 1 Axes>"
      ]
     },
     "metadata": {
      "needs_background": "light"
     },
     "output_type": "display_data"
    },
    {
     "name": "stdout",
     "output_type": "stream",
     "text": [
      "-0.175421\n",
      "_________________________________________________________\n",
      "_________________ metformin-rosiglitazone _______________\n",
      "_________________________________________________________\n"
     ]
    },
    {
     "data": {
      "image/png": "[encoded data removed]",
      "text/plain": [
       "<Figure size 432x288 with 1 Axes>"
      ]
     },
     "metadata": {
      "needs_background": "light"
     },
     "output_type": "display_data"
    },
    {
     "data": {
      "image/png": "[encoded data removed]",
      "text/plain": [
       "<Figure size 432x288 with 1 Axes>"
      ]
     },
     "metadata": {
      "needs_background": "light"
     },
     "output_type": "display_data"
    },
    {
     "name": "stdout",
     "output_type": "stream",
     "text": [
      "-0.131282\n",
      "________________________________________________________\n",
      "_________________ metformin-pioglitazone _______________\n",
      "________________________________________________________\n"
     ]
    },
    {
     "data": {
      "image/png": "[encoded data removed]",
      "text/plain": [
       "<Figure size 432x288 with 1 Axes>"
      ]
     },
     "metadata": {
      "needs_background": "light"
     },
     "output_type": "display_data"
    },
    {
     "data": {
      "image/png": "[encoded data removed]",
      "text/plain": [
       "<Figure size 432x288 with 1 Axes>"
      ]
     },
     "metadata": {
      "needs_background": "light"
     },
     "output_type": "display_data"
    },
    {
     "name": "stdout",
     "output_type": "stream",
     "text": [
      "-0.19212\n"
     ]
    }
   ],
   "source": [
    "saved_result = []\n",
    "for i in drug_columns:\n",
    "    temp = get_drug_analytics(i)\n",
    "    print(round(temp,6))\n",
    "    saved_result.append(temp)\n",
    "result = pd.DataFrame({'drug_name':drug_columns,'strength':saved_result})\n"
   ]
  },
  {
   "cell_type": "code",
   "execution_count": 214,
   "metadata": {},
   "outputs": [
    {
     "data": {
      "text/plain": [
       "Index(['metformin', 'repaglinide', 'nateglinide', 'chlorpropamide',\n",
       "       'glimepiride', 'glipizide', 'glyburide', 'tolbutamide', 'pioglitazone',\n",
       "       'rosiglitazone', 'acarbose', 'miglitol', 'tolazamide', 'insulin',\n",
       "       'glyburide-metformin', 'glipizide-metformin',\n",
       "       'glimepiride-pioglitazone', 'metformin-rosiglitazone',\n",
       "       'metformin-pioglitazone'],\n",
       "      dtype='object')"
      ]
     },
     "execution_count": 214,
     "metadata": {},
     "output_type": "execute_result"
    }
   ],
   "source": [
    "drug_columns"
   ]
  },
  {
   "cell_type": "code",
   "execution_count": 230,
   "metadata": {},
   "outputs": [
    {
     "data": {
      "text/html": [
       "<div>\n",
       "<style scoped>\n",
       "    .dataframe tbody tr th:only-of-type {\n",
       "        vertical-align: middle;\n",
       "    }\n",
       "\n",
       "    .dataframe tbody tr th {\n",
       "        vertical-align: top;\n",
       "    }\n",
       "\n",
       "    .dataframe thead th {\n",
       "        text-align: right;\n",
       "    }\n",
       "</style>\n",
       "<table border=\"1\" class=\"dataframe\">\n",
       "  <thead>\n",
       "    <tr style=\"text-align: right;\">\n",
       "      <th></th>\n",
       "      <th>drug</th>\n",
       "      <th>strength</th>\n",
       "      <th>drug_class</th>\n",
       "    </tr>\n",
       "  </thead>\n",
       "  <tbody>\n",
       "    <tr>\n",
       "      <th>3</th>\n",
       "      <td>chlorpropamide</td>\n",
       "      <td>0.078893</td>\n",
       "      <td>Biguanide</td>\n",
       "    </tr>\n",
       "    <tr>\n",
       "      <th>10</th>\n",
       "      <td>acarbose</td>\n",
       "      <td>0.059869</td>\n",
       "      <td>Meglitinides</td>\n",
       "    </tr>\n",
       "    <tr>\n",
       "      <th>7</th>\n",
       "      <td>tolbutamide</td>\n",
       "      <td>0.050643</td>\n",
       "      <td>Meglitinides</td>\n",
       "    </tr>\n",
       "    <tr>\n",
       "      <th>11</th>\n",
       "      <td>miglitol</td>\n",
       "      <td>0.040506</td>\n",
       "      <td>sulfonylurea (1st generation)</td>\n",
       "    </tr>\n",
       "    <tr>\n",
       "      <th>4</th>\n",
       "      <td>glimepiride</td>\n",
       "      <td>0.025550</td>\n",
       "      <td>sulfonylurea (3rd generation)</td>\n",
       "    </tr>\n",
       "    <tr>\n",
       "      <th>0</th>\n",
       "      <td>metformin</td>\n",
       "      <td>0.023851</td>\n",
       "      <td>sulfonylurea (2nd generation)</td>\n",
       "    </tr>\n",
       "    <tr>\n",
       "      <th>8</th>\n",
       "      <td>pioglitazone</td>\n",
       "      <td>0.009084</td>\n",
       "      <td>sulfonylurea (2nd generation)</td>\n",
       "    </tr>\n",
       "    <tr>\n",
       "      <th>9</th>\n",
       "      <td>rosiglitazone</td>\n",
       "      <td>0.008152</td>\n",
       "      <td>sulfonylurea (1st generation)</td>\n",
       "    </tr>\n",
       "    <tr>\n",
       "      <th>6</th>\n",
       "      <td>glyburide</td>\n",
       "      <td>0.000654</td>\n",
       "      <td>Glitazones</td>\n",
       "    </tr>\n",
       "    <tr>\n",
       "      <th>12</th>\n",
       "      <td>tolazamide</td>\n",
       "      <td>-0.007967</td>\n",
       "      <td>Glitazones</td>\n",
       "    </tr>\n",
       "    <tr>\n",
       "      <th>5</th>\n",
       "      <td>glipizide</td>\n",
       "      <td>-0.008086</td>\n",
       "      <td>Alpha- glucosidase inhibitors</td>\n",
       "    </tr>\n",
       "    <tr>\n",
       "      <th>13</th>\n",
       "      <td>insulin</td>\n",
       "      <td>-0.008184</td>\n",
       "      <td>Alpha- glucosidase inhibitors</td>\n",
       "    </tr>\n",
       "    <tr>\n",
       "      <th>2</th>\n",
       "      <td>nateglinide</td>\n",
       "      <td>-0.008465</td>\n",
       "      <td>sulfonylurea (1st generation)</td>\n",
       "    </tr>\n",
       "    <tr>\n",
       "      <th>14</th>\n",
       "      <td>glyburide-metformin</td>\n",
       "      <td>-0.015204</td>\n",
       "      <td>Insulin</td>\n",
       "    </tr>\n",
       "    <tr>\n",
       "      <th>1</th>\n",
       "      <td>repaglinide</td>\n",
       "      <td>-0.025074</td>\n",
       "      <td>mixed</td>\n",
       "    </tr>\n",
       "    <tr>\n",
       "      <th>15</th>\n",
       "      <td>glipizide-metformin</td>\n",
       "      <td>-0.074234</td>\n",
       "      <td>mixed</td>\n",
       "    </tr>\n",
       "    <tr>\n",
       "      <th>17</th>\n",
       "      <td>metformin-rosiglitazone</td>\n",
       "      <td>-0.131282</td>\n",
       "      <td>mixed</td>\n",
       "    </tr>\n",
       "    <tr>\n",
       "      <th>16</th>\n",
       "      <td>glimepiride-pioglitazone</td>\n",
       "      <td>-0.175421</td>\n",
       "      <td>mixed</td>\n",
       "    </tr>\n",
       "    <tr>\n",
       "      <th>18</th>\n",
       "      <td>metformin-pioglitazone</td>\n",
       "      <td>-0.192120</td>\n",
       "      <td>mixed</td>\n",
       "    </tr>\n",
       "  </tbody>\n",
       "</table>\n",
       "</div>"
      ],
      "text/plain": [
       "                        drug  strength                     drug_class\n",
       "3             chlorpropamide  0.078893                      Biguanide\n",
       "10                  acarbose  0.059869                   Meglitinides\n",
       "7                tolbutamide  0.050643                   Meglitinides\n",
       "11                  miglitol  0.040506  sulfonylurea (1st generation)\n",
       "4                glimepiride  0.025550  sulfonylurea (3rd generation)\n",
       "0                  metformin  0.023851  sulfonylurea (2nd generation)\n",
       "8               pioglitazone  0.009084  sulfonylurea (2nd generation)\n",
       "9              rosiglitazone  0.008152  sulfonylurea (1st generation)\n",
       "6                  glyburide  0.000654                     Glitazones\n",
       "12                tolazamide -0.007967                     Glitazones\n",
       "5                  glipizide -0.008086  Alpha- glucosidase inhibitors\n",
       "13                   insulin -0.008184  Alpha- glucosidase inhibitors\n",
       "2                nateglinide -0.008465  sulfonylurea (1st generation)\n",
       "14       glyburide-metformin -0.015204                        Insulin\n",
       "1                repaglinide -0.025074                          mixed\n",
       "15       glipizide-metformin -0.074234                          mixed\n",
       "17   metformin-rosiglitazone -0.131282                          mixed\n",
       "16  glimepiride-pioglitazone -0.175421                          mixed\n",
       "18    metformin-pioglitazone -0.192120                          mixed"
      ]
     },
     "execution_count": 230,
     "metadata": {},
     "output_type": "execute_result"
    }
   ],
   "source": [
    "drug_class = ['Biguanide','Meglitinides','Meglitinides','sulfonylurea (1st generation)','sulfonylurea (3rd generation)','sulfonylurea (2nd generation)','sulfonylurea (2nd generation)','sulfonylurea (1st generation)','Glitazones','Glitazones','Alpha- glucosidase inhibitors','Alpha- glucosidase inhibitors','sulfonylurea (1st generation)','Insulin','mixed','mixed','mixed','mixed','mixed']\n",
    "drug_rank = pd.DataFrame({'drug':drug_columns,'strength': saved_result})\n",
    "drug_rank = drug_rank.sort_values('strength',ascending = False)\n",
    "drug_rank['drug_class'] = drug_class\n",
    "drug_rank"
   ]
  },
  {
   "cell_type": "code",
   "execution_count": 231,
   "metadata": {
    "scrolled": true
   },
   "outputs": [
    {
     "name": "stdout",
     "output_type": "stream",
     "text": [
      "________________________________________________________\n",
      "_________________ chlorpropamide _______________\n",
      "________________________________________________________\n"
     ]
    },
    {
     "data": {
      "image/png": "[encoded data removed]",
      "text/plain": [
       "<Figure size 432x288 with 1 Axes>"
      ]
     },
     "metadata": {
      "needs_background": "light"
     },
     "output_type": "display_data"
    },
    {
     "data": {
      "image/png": "[encoded data removed]",
      "text/plain": [
       "<Figure size 432x288 with 1 Axes>"
      ]
     },
     "metadata": {
      "needs_background": "light"
     },
     "output_type": "display_data"
    },
    {
     "data": {
      "text/plain": [
       "0.07889268996406212"
      ]
     },
     "execution_count": 231,
     "metadata": {},
     "output_type": "execute_result"
    }
   ],
   "source": [
    "get_drug_analytics('chlorpropamide')"
   ]
  },
  {
   "cell_type": "code",
   "execution_count": null,
   "metadata": {
    "scrolled": true
   },
   "outputs": [],
   "source": [
    "result.sort_values('strength',ascending=False)"
   ]
  },
  {
   "cell_type": "code",
   "execution_count": null,
   "metadata": {},
   "outputs": [],
   "source": [
    "a=result.sort_values('strength',ascending=False)"
   ]
  },
  {
   "cell_type": "code",
   "execution_count": null,
   "metadata": {},
   "outputs": [],
   "source": [
    "drug_strength=a.to_csv(r'/Users/apple/Desktop/drug_strength.csv')"
   ]
  },
  {
   "cell_type": "code",
   "execution_count": null,
   "metadata": {},
   "outputs": [],
   "source": [
    "#"
   ]
  },
  {
   "cell_type": "code",
   "execution_count": null,
   "metadata": {},
   "outputs": [],
   "source": []
  }
 ],
 "metadata": {
  "kernelspec": {
   "display_name": "Python 3",
   "language": "python",
   "name": "python3"
  },
  "language_info": {
   "codemirror_mode": {
    "name": "ipython",
    "version": 3
   },
   "file_extension": ".py",
   "mimetype": "text/x-python",
   "name": "python",
   "nbconvert_exporter": "python",
   "pygments_lexer": "ipython3",
   "version": "3.7.3"
  }
 },
 "nbformat": 4,
 "nbformat_minor": 2
}
